{
 "cells": [
  {
   "cell_type": "code",
   "execution_count": null,
   "metadata": {
    "vscode": {
     "languageId": "plaintext"
    }
   },
   "outputs": [],
   "source": [
    "from pyodide import js\n",
    "\n",
    "js.eval(\"\"\"\n",
    "const script = document.createElement('script');\n",
    "script.src = 'https://cdn.jsdelivr.net/npm/@mlc-ai/web-llm/dist/index.min.js';\n",
    "document.head.appendChild(script);\n",
    "\"\"\")"
   ]
  },
  {
   "cell_type": "code",
   "execution_count": null,
   "metadata": {
    "vscode": {
     "languageId": "plaintext"
    }
   },
   "outputs": [],
   "source": [
    "# Wait for the script to load\n",
    "import asyncio\n",
    "await asyncio.sleep(1)\n",
    "\n",
    "# Initialize WebLLM\n",
    "js.eval(\"\"\"\n",
    "window.webllm = await window.mlc.llm.create();\n",
    "await window.webllm.loadModel('TinyLlama-1.1B-Chat-v1.0-q4f16_1-MLC-1k');\n",
    "\"\"\")"
   ]
  },
  {
   "cell_type": "code",
   "execution_count": null,
   "metadata": {
    "vscode": {
     "languageId": "plaintext"
    }
   },
   "outputs": [],
   "source": [
    "response = await js.eval(\"window.webllm.generate('Hello from WebLLM!')\")\n",
    "print(response)"
   ]
  }
 ],
 "metadata": {
  "language_info": {
   "name": "python"
  }
 },
 "nbformat": 4,
 "nbformat_minor": 2
}
