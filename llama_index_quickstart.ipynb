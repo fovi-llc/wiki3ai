{
  "cells": [
    {
      "cell_type": "markdown",
      "metadata": {
        "id": "JnZ2fqegSEBk"
      },
      "source": [
        "# Llama-Index Quickstart\n",
        "\n",
        "In this quickstart you will create a simple Llama Index App and learn how to log it and get feedback on an LLM response.\n",
        "\n",
        "For evaluation, we will leverage the \"hallucination triad\" of groundedness, context relevance and answer relevance.\n",
        "\n",
        "[![Open In Colab](https://colab.research.google.com/assets/colab-badge.svg)](https://colab.research.google.com/github/truera/trulens/blob/main/trulens_eval/examples/quickstart/llama_index_quickstart.ipynb)"
      ]
    },
    {
      "cell_type": "markdown",
      "metadata": {
        "id": "nz7cLHMNSEBo"
      },
      "source": [
        "## Setup\n",
        "\n",
        "### Install dependencies\n",
        "Let's install some of the dependencies for this notebook if we don't have them already"
      ]
    },
    {
      "cell_type": "code",
      "execution_count": 5,
      "metadata": {
        "colab": {
          "base_uri": "https://localhost:8080/"
        },
        "id": "aXK0D31TSEBp",
        "outputId": "c6ab9eb7-d8a8-4917-d106-1f968d1759a0"
      },
      "outputs": [
        {
          "name": "stdout",
          "output_type": "stream",
          "text": [
            "\u001b[31mERROR: pip's dependency resolver does not currently take into account all the packages that are installed. This behaviour is the source of the following dependency conflicts.\n",
            "wiki3ai 0.1.0 requires pydantic<2, but you have pydantic 2.5.2 which is incompatible.\u001b[0m\u001b[31m\n",
            "\u001b[0mNote: you may need to restart the kernel to use updated packages.\n"
          ]
        }
      ],
      "source": [
        "%pip install -qU \"trulens_eval>=0.19.2\" \"llama_index>0.9.17\" \"html2text>=2020.1.16\" qdrant_client python-dotenv ipywidgets streamlit_jupyter\n",
        "# %pip install -qU trulens_eval==0.19.1 llama_index>0.9.15 html2text>=2020.1.16 qdrant_client python-dotenv\n",
        "\n",
        "%load_ext dotenv\n",
        "%dotenv"
      ]
    },
    {
      "cell_type": "markdown",
      "metadata": {
        "id": "qxB8G6jiSEBr"
      },
      "source": [
        "### Add API keys\n",
        "For this quickstart, you will need Open AI and Huggingface keys. The OpenAI key is used for embeddings and GPT, and the Huggingface key is used for evaluation."
      ]
    },
    {
      "cell_type": "code",
      "execution_count": 4,
      "metadata": {
        "id": "Zlv9qBKjSEBr"
      },
      "outputs": [],
      "source": [
        "import os\n",
        "from google.colab import userdata\n",
        "GOOGLE_API_KEY = os.environ[\"GOOGLE_API_KEY\"] = userdata.get('GEMINI_API_KEY')\n",
        "os.environ[\"OPENAI_API_KEY\"] = userdata.get('OPENAI_API_KEY')"
      ]
    },
    {
      "cell_type": "code",
      "execution_count": 10,
      "metadata": {},
      "outputs": [],
      "source": [
        "import os\n",
        "GOOGLE_API_KEY = os.environ[\"GEMINI_API_KEY\"]"
      ]
    },
    {
      "cell_type": "markdown",
      "metadata": {
        "id": "dkZE-pLzSEBr"
      },
      "source": [
        "### Import from LlamaIndex and TruLens"
      ]
    },
    {
      "cell_type": "code",
      "execution_count": 2,
      "metadata": {
        "colab": {
          "base_uri": "https://localhost:8080/"
        },
        "id": "h0CLC5QBSEBs",
        "outputId": "d10aad25-0ea9-4d49-a2eb-86d7cf814711"
      },
      "outputs": [
        {
          "name": "stderr",
          "output_type": "stream",
          "text": [
            "/Users/jim/Projects/wiki3ai/.venv/lib/python3.11/site-packages/tqdm/auto.py:21: TqdmWarning: IProgress not found. Please update jupyter and ipywidgets. See https://ipywidgets.readthedocs.io/en/stable/user_install.html\n",
            "  from .autonotebook import tqdm as notebook_tqdm\n"
          ]
        },
        {
          "name": "stdout",
          "output_type": "stream",
          "text": [
            "🦑 Tru initialized with db url sqlite:///default.sqlite .\n",
            "🔒 Secret keys will not be included in the database.\n"
          ]
        }
      ],
      "source": [
        "from trulens_eval import Feedback, Tru, TruLlama\n",
        "from trulens_eval.feedback import Groundedness\n",
        "from trulens_eval.feedback.provider.openai import OpenAI\n",
        "\n",
        "tru = Tru(database_redact_keys=True)"
      ]
    },
    {
      "cell_type": "markdown",
      "metadata": {
        "id": "-LivWqTvSEBt"
      },
      "source": [
        "### Create Simple LLM Application\n",
        "\n",
        "This example uses LlamaIndex which internally uses an OpenAI LLM."
      ]
    },
    {
      "cell_type": "code",
      "execution_count": 3,
      "metadata": {
        "colab": {
          "base_uri": "https://localhost:8080/"
        },
        "id": "dokLMzEjMxke",
        "outputId": "c5f5b6b9-ca64-4f08-ff15-9c48f56d06d4"
      },
      "outputs": [
        {
          "data": {
            "text/plain": [
              "[Document(id_='749b861a-8694-4f91-80ec-230bedad6be9', embedding=None, metadata={}, excluded_embed_metadata_keys=[], excluded_llm_metadata_keys=[], relationships={}, hash='e63f93d1899b11fdd72d48ae487da624571439d97f87ca63fa5cc9753df3549e', text='![](https://s.turbifycdn.com/aah/paulgraham/essays-5.gif)|\\n![](https://sep.turbifycdn.com/ca/Img/trans_1x1.gif)|\\n[![](https://s.turbifycdn.com/aah/paulgraham/essays-6.gif)](index.html)  \\n  \\n| ![What I Worked On](https://s.turbifycdn.com/aah/paulgraham/what-i-worked-\\non-4.gif)  \\n  \\nFebruary 2021  \\n  \\nBefore college the two main things I worked on, outside of school, were\\nwriting and programming. I didn\\'t write essays. I wrote what beginning writers\\nwere supposed to write then, and probably still are: short stories. My stories\\nwere awful. They had hardly any plot, just characters with strong feelings,\\nwhich I imagined made them deep.  \\n  \\nThe first programs I tried writing were on the IBM 1401 that our school\\ndistrict used for what was then called \"data processing.\" This was in 9th\\ngrade, so I was 13 or 14. The school district\\'s 1401 happened to be in the\\nbasement of our junior high school, and my friend Rich Draves and I got\\npermission to use it. It was like a mini Bond villain\\'s lair down there, with\\nall these alien-looking machines \\x97 CPU, disk drives, printer, card reader \\x97\\nsitting up on a raised floor under bright fluorescent lights.  \\n  \\nThe language we used was an early version of Fortran. You had to type programs\\non punch cards, then stack them in the card reader and press a button to load\\nthe program into memory and run it. The result would ordinarily be to print\\nsomething on the spectacularly loud printer.  \\n  \\nI was puzzled by the 1401. I couldn\\'t figure out what to do with it. And in\\nretrospect there\\'s not much I could have done with it. The only form of input\\nto programs was data stored on punched cards, and I didn\\'t have any data\\nstored on punched cards. The only other option was to do things that didn\\'t\\nrely on any input, like calculate approximations of pi, but I didn\\'t know\\nenough math to do anything interesting of that type. So I\\'m not surprised I\\ncan\\'t remember any programs I wrote, because they can\\'t have done much. My\\nclearest memory is of the moment I learned it was possible for programs not to\\nterminate, when one of mine didn\\'t. On a machine without time-sharing, this\\nwas a social as well as a technical error, as the data center manager\\'s\\nexpression made clear.  \\n  \\nWith microcomputers, everything changed. Now you could have a computer sitting\\nright in front of you, on a desk, that could respond to your keystrokes as it\\nwas running instead of just churning through a stack of punch cards and then\\nstopping. [1]  \\n  \\nThe first of my friends to get a microcomputer built it himself. It was sold\\nas a kit by Heathkit. I remember vividly how impressed and envious I felt\\nwatching him sitting in front of it, typing programs right into the computer.  \\n  \\nComputers were expensive in those days and it took me years of nagging before\\nI convinced my father to buy one, a TRS-80, in about 1980\\\\. The gold standard\\nthen was the Apple II, but a TRS-80 was good enough. This was when I really\\nstarted programming. I wrote simple games, a program to predict how high my\\nmodel rockets would fly, and a word processor that my father used to write at\\nleast one book. There was only room in memory for about 2 pages of text, so\\nhe\\'d write 2 pages at a time and then print them out, but it was a lot better\\nthan a typewriter.  \\n  \\nThough I liked programming, I didn\\'t plan to study it in college. In college I\\nwas going to study philosophy, which sounded much more powerful. It seemed, to\\nmy naive high school self, to be the study of the ultimate truths, compared to\\nwhich the things studied in other fields would be mere domain knowledge. What\\nI discovered when I got to college was that the other fields took up so much\\nof the space of ideas that there wasn\\'t much left for these supposed ultimate\\ntruths. All that seemed left for philosophy were edge cases that people in\\nother fields felt could safely be ignored.  \\n  \\nI couldn\\'t have put this into words when I was 18. All I knew at the time was\\nthat I kept taking philosophy courses and they kept being boring. So I decided\\nto switch to AI.  \\n  \\nAI was in the air in the mid 1980s, but there were two things especially that\\nmade me want to work on it: a novel by Heinlein called _The Moon is a Harsh\\nMistress_ , which featured an intelligent computer called Mike, and a PBS\\ndocumentary that showed Terry Winograd using SHRDLU. I haven\\'t tried rereading\\n_The Moon is a Harsh Mistress_ , so I don\\'t know how well it has aged, but\\nwhen I read it I was drawn entirely into its world. It seemed only a matter of\\ntime before we\\'d have Mike, and when I saw Winograd using SHRDLU, it seemed\\nlike that time would be a few years at most. All you had to do was teach\\nSHRDLU more words.  \\n  \\nThere weren\\'t any classes in AI at Cornell then, not even graduate classes, so\\nI started trying to teach myself. Which meant learning Lisp, since in those\\ndays Lisp was regarded as the language of AI. The commonly used programming\\nlanguages then were pretty primitive, and programmers\\' ideas correspondingly\\nso. The default language at Cornell was a Pascal-like language called PL/I,\\nand the situation was similar elsewhere. Learning Lisp expanded my concept of\\na program so fast that it was years before I started to have a sense of where\\nthe new limits were. This was more like it; this was what I had expected\\ncollege to do. It wasn\\'t happening in a class, like it was supposed to, but\\nthat was ok. For the next couple years I was on a roll. I knew what I was\\ngoing to do.  \\n  \\nFor my undergraduate thesis, I reverse-engineered SHRDLU. My God did I love\\nworking on that program. It was a pleasing bit of code, but what made it even\\nmore exciting was my belief \\x97 hard to imagine now, but not unique in 1985 \\x97\\nthat it was already climbing the lower slopes of intelligence.  \\n  \\nI had gotten into a program at Cornell that didn\\'t make you choose a major.\\nYou could take whatever classes you liked, and choose whatever you liked to\\nput on your degree. I of course chose \"Artificial Intelligence.\" When I got\\nthe actual physical diploma, I was dismayed to find that the quotes had been\\nincluded, which made them read as scare-quotes. At the time this bothered me,\\nbut now it seems amusingly accurate, for reasons I was about to discover.  \\n  \\nI applied to 3 grad schools: MIT and Yale, which were renowned for AI at the\\ntime, and Harvard, which I\\'d visited because Rich Draves went there, and was\\nalso home to Bill Woods, who\\'d invented the type of parser I used in my SHRDLU\\nclone. Only Harvard accepted me, so that was where I went.  \\n  \\nI don\\'t remember the moment it happened, or if there even was a specific\\nmoment, but during the first year of grad school I realized that AI, as\\npracticed at the time, was a hoax. By which I mean the sort of AI in which a\\nprogram that\\'s told \"the dog is sitting on the chair\" translates this into\\nsome formal representation and adds it to the list of things it knows.  \\n  \\nWhat these programs really showed was that there\\'s a subset of natural\\nlanguage that\\'s a formal language. But a very proper subset. It was clear that\\nthere was an unbridgeable gap between what they could do and actually\\nunderstanding natural language. It was not, in fact, simply a matter of\\nteaching SHRDLU more words. That whole way of doing AI, with explicit data\\nstructures representing concepts, was not going to work. Its brokenness did,\\nas so often happens, generate a lot of opportunities to write papers about\\nvarious band-aids that could be applied to it, but it was never going to get\\nus Mike.  \\n  \\nSo I looked around to see what I could salvage from the wreckage of my plans,\\nand there was Lisp. I knew from experience that Lisp was interesting for its\\nown sake and not just for its association with AI, even though that was the\\nmain reason people cared about it at the time. So I decided to focus on Lisp.\\nIn fact, I decided to write a book about Lisp hacking. It\\'s scary to think how\\nlittle I knew about Lisp hacking when I started writing that book. But there\\'s\\nnothing like writing a book about something to help you learn it. The book,\\n_On Lisp_ , wasn\\'t published till 1993, but I wrote much of it in grad school.  \\n  \\nComputer Science is an uneasy alliance between two halves, theory and systems.\\nThe theory people prove things, and the systems people build things. I wanted\\nto build things. I had plenty of respect for theory \\x97 indeed, a sneaking\\nsuspicion that it was the more admirable of the two halves \\x97 but building\\nthings seemed so much more exciting.  \\n  \\nThe problem with systems work, though, was that it didn\\'t last. Any program\\nyou wrote today, no matter how good, would be obsolete in a couple decades at\\nbest. People might mention your software in footnotes, but no one would\\nactually use it. And indeed, it would seem very feeble work. Only people with\\na sense of the history of the field would even realize that, in its time, it\\nhad been good.  \\n  \\nThere were some surplus Xerox Dandelions floating around the computer lab at\\none point. Anyone who wanted one to play around with could have one. I was\\nbriefly tempted, but they were so slow by present standards; what was the\\npoint? No one else wanted one either, so off they went. That was what happened\\nto systems work.  \\n  \\nI wanted not just to build things, but to build things that would last.  \\n  \\nIn this dissatisfied state I went in 1988 to visit Rich Draves at CMU, where\\nhe was in grad school. One day I went to visit the Carnegie Institute, where\\nI\\'d spent a lot of time as a kid. While looking at a painting there I realized\\nsomething that might seem obvious, but was a big surprise to me. There, right\\non the wall, was something you could make that would last. Paintings didn\\'t\\nbecome obsolete. Some of the best ones were hundreds of years old.  \\n  \\nAnd moreover this was something you could make a living doing. Not as easily\\nas you could by writing software, of course, but I thought if you were really\\nindustrious and lived really cheaply, it had to be possible to make enough to\\nsurvive. And as an artist you could be truly independent. You wouldn\\'t have a\\nboss, or even need to get research funding.  \\n  \\nI had always liked looking at paintings. Could I make them? I had no idea. I\\'d\\nnever imagined it was even possible. I knew intellectually that people made\\nart \\x97 that it didn\\'t just appear spontaneously \\x97 but it was as if the people\\nwho made it were a different species. They either lived long ago or were\\nmysterious geniuses doing strange things in profiles in _Life_ magazine. The\\nidea of actually being able to make art, to put that verb before that noun,\\nseemed almost miraculous.  \\n  \\nThat fall I started taking art classes at Harvard. Grad students could take\\nclasses in any department, and my advisor, Tom Cheatham, was very easy going.\\nIf he even knew about the strange classes I was taking, he never said\\nanything.  \\n  \\nSo now I was in a PhD program in computer science, yet planning to be an\\nartist, yet also genuinely in love with Lisp hacking and working away at _On\\nLisp_. In other words, like many a grad student, I was working energetically\\non multiple projects that were not my thesis.  \\n  \\nI didn\\'t see a way out of this situation. I didn\\'t want to drop out of grad\\nschool, but how else was I going to get out? I remember when my friend Robert\\nMorris got kicked out of Cornell for writing the internet worm of 1988, I was\\nenvious that he\\'d found such a spectacular way to get out of grad school.  \\n  \\nThen one day in April 1990 a crack appeared in the wall. I ran into professor\\nCheatham and he asked if I was far enough along to graduate that June. I\\ndidn\\'t have a word of my dissertation written, but in what must have been the\\nquickest bit of thinking in my life, I decided to take a shot at writing one\\nin the 5 weeks or so that remained before the deadline, reusing parts of _On\\nLisp_ where I could, and I was able to respond, with no perceptible delay\\n\"Yes, I think so. I\\'ll give you something to read in a few days.\"  \\n  \\nI picked applications of continuations as the topic. In retrospect I should\\nhave written about macros and embedded languages. There\\'s a whole world there\\nthat\\'s barely been explored. But all I wanted was to get out of grad school,\\nand my rapidly written dissertation sufficed, just barely.  \\n  \\nMeanwhile I was applying to art schools. I applied to two: RISD in the US, and\\nthe Accademia di Belli Arti in Florence, which, because it was the oldest art\\nschool, I imagined would be good. RISD accepted me, and I never heard back\\nfrom the Accademia, so off to Providence I went.  \\n  \\nI\\'d applied for the BFA program at RISD, which meant in effect that I had to\\ngo to college again. This was not as strange as it sounds, because I was only\\n25, and art schools are full of people of different ages. RISD counted me as a\\ntransfer sophomore and said I had to do the foundation that summer. The\\nfoundation means the classes that everyone has to take in fundamental subjects\\nlike drawing, color, and design.  \\n  \\nToward the end of the summer I got a big surprise: a letter from the\\nAccademia, which had been delayed because they\\'d sent it to Cambridge England\\ninstead of Cambridge Massachusetts, inviting me to take the entrance exam in\\nFlorence that fall. This was now only weeks away. My nice landlady let me\\nleave my stuff in her attic. I had some money saved from consulting work I\\'d\\ndone in grad school; there was probably enough to last a year if I lived\\ncheaply. Now all I had to do was learn Italian.  \\n  \\nOnly _stranieri_ (foreigners) had to take this entrance exam. In retrospect it\\nmay well have been a way of excluding them, because there were so many\\n_stranieri_ attracted by the idea of studying art in Florence that the Italian\\nstudents would otherwise have been outnumbered. I was in decent shape at\\npainting and drawing from the RISD foundation that summer, but I still don\\'t\\nknow how I managed to pass the written exam. I remember that I answered the\\nessay question by writing about Cezanne, and that I cranked up the\\nintellectual level as high as I could to make the most of my limited\\nvocabulary. [2]  \\n  \\nI\\'m only up to age 25 and already there are such conspicuous patterns. Here I\\nwas, yet again about to attend some august institution in the hopes of\\nlearning about some prestigious subject, and yet again about to be\\ndisappointed. The students and faculty in the painting department at the\\nAccademia were the nicest people you could imagine, but they had long since\\narrived at an arrangement whereby the students wouldn\\'t require the faculty to\\nteach anything, and in return the faculty wouldn\\'t require the students to\\nlearn anything. And at the same time all involved would adhere outwardly to\\nthe conventions of a 19th century atelier. We actually had one of those little\\nstoves, fed with kindling, that you see in 19th century studio paintings, and\\na nude model sitting as close to it as possible without getting burned. Except\\nhardly anyone else painted her besides me. The rest of the students spent\\ntheir time chatting or occasionally trying to imitate things they\\'d seen in\\nAmerican art magazines.  \\n  \\nOur model turned out to live just down the street from me. She made a living\\nfrom a combination of modelling and making fakes for a local antique dealer.\\nShe\\'d copy an obscure old painting out of a book, and then he\\'d take the copy\\nand maltreat it to make it look old. [3]  \\n  \\nWhile I was a student at the Accademia I started painting still lives in my\\nbedroom at night. These paintings were tiny, because the room was, and because\\nI painted them on leftover scraps of canvas, which was all I could afford at\\nthe time. Painting still lives is different from painting people, because the\\nsubject, as its name suggests, can\\'t move. People can\\'t sit for more than\\nabout 15 minutes at a time, and when they do they don\\'t sit very still. So the\\ntraditional m.o. for painting people is to know how to paint a generic person,\\nwhich you then modify to match the specific person you\\'re painting. Whereas a\\nstill life you can, if you want, copy pixel by pixel from what you\\'re seeing.\\nYou don\\'t want to stop there, of course, or you get merely photographic\\naccuracy, and what makes a still life interesting is that it\\'s been through a\\nhead. You want to emphasize the visual cues that tell you, for example, that\\nthe reason the color changes suddenly at a certain point is that it\\'s the edge\\nof an object. By subtly emphasizing such things you can make paintings that\\nare more realistic than photographs not just in some metaphorical sense, but\\nin the strict information-theoretic sense. [4]  \\n  \\nI liked painting still lives because I was curious about what I was seeing. In\\neveryday life, we aren\\'t consciously aware of much we\\'re seeing. Most visual\\nperception is handled by low-level processes that merely tell your brain\\n\"that\\'s a water droplet\" without telling you details like where the lightest\\nand darkest points are, or \"that\\'s a bush\" without telling you the shape and\\nposition of every leaf. This is a feature of brains, not a bug. In everyday\\nlife it would be distracting to notice every leaf on every bush. But when you\\nhave to paint something, you have to look more closely, and when you do\\nthere\\'s a lot to see. You can still be noticing new things after days of\\ntrying to paint something people usually take for granted, just as you can\\nafter days of trying to write an essay about something people usually take for\\ngranted.  \\n  \\nThis is not the only way to paint. I\\'m not 100% sure it\\'s even a good way to\\npaint. But it seemed a good enough bet to be worth trying.  \\n  \\nOur teacher, professor Ulivi, was a nice guy. He could see I worked hard, and\\ngave me a good grade, which he wrote down in a sort of passport each student\\nhad. But the Accademia wasn\\'t teaching me anything except Italian, and my\\nmoney was running out, so at the end of the first year I went back to the US.  \\n  \\nI wanted to go back to RISD, but I was now broke and RISD was very expensive,\\nso I decided to get a job for a year and then return to RISD the next fall. I\\ngot one at a company called Interleaf, which made software for creating\\ndocuments. You mean like Microsoft Word? Exactly. That was how I learned that\\nlow end software tends to eat high end software. But Interleaf still had a few\\nyears to live yet. [5]  \\n  \\nInterleaf had done something pretty bold. Inspired by Emacs, they\\'d added a\\nscripting language, and even made the scripting language a dialect of Lisp.\\nNow they wanted a Lisp hacker to write things in it. This was the closest\\nthing I\\'ve had to a normal job, and I hereby apologize to my boss and\\ncoworkers, because I was a bad employee. Their Lisp was the thinnest icing on\\na giant C cake, and since I didn\\'t know C and didn\\'t want to learn it, I never\\nunderstood most of the software. Plus I was terribly irresponsible. This was\\nback when a programming job meant showing up every day during certain working\\nhours. That seemed unnatural to me, and on this point the rest of the world is\\ncoming around to my way of thinking, but at the time it caused a lot of\\nfriction. Toward the end of the year I spent much of my time surreptitiously\\nworking on _On Lisp_ , which I had by this time gotten a contract to publish.  \\n  \\nThe good part was that I got paid huge amounts of money, especially by art\\nstudent standards. In Florence, after paying my part of the rent, my budget\\nfor everything else had been $7 a day. Now I was getting paid more than 4\\ntimes that every hour, even when I was just sitting in a meeting. By living\\ncheaply I not only managed to save enough to go back to RISD, but also paid\\noff my college loans.  \\n  \\nI learned some useful things at Interleaf, though they were mostly about what\\nnot to do. I learned that it\\'s better for technology companies to be run by\\nproduct people than sales people (though sales is a real skill and people who\\nare good at it are really good at it), that it leads to bugs when code is\\nedited by too many people, that cheap office space is no bargain if it\\'s\\ndepressing, that planned meetings are inferior to corridor conversations, that\\nbig, bureaucratic customers are a dangerous source of money, and that there\\'s\\nnot much overlap between conventional office hours and the optimal time for\\nhacking, or conventional offices and the optimal place for it.  \\n  \\nBut the most important thing I learned, and which I used in both Viaweb and Y\\nCombinator, is that the low end eats the high end: that it\\'s good to be the\\n\"entry level\" option, even though that will be less prestigious, because if\\nyou\\'re not, someone else will be, and will squash you against the ceiling.\\nWhich in turn means that prestige is a danger sign.  \\n  \\nWhen I left to go back to RISD the next fall, I arranged to do freelance work\\nfor the group that did projects for customers, and this was how I survived for\\nthe next several years. When I came back to visit for a project later on,\\nsomeone told me about a new thing called HTML, which was, as he described it,\\na derivative of SGML. Markup language enthusiasts were an occupational hazard\\nat Interleaf and I ignored him, but this HTML thing later became a big part of\\nmy life.  \\n  \\nIn the fall of 1992 I moved back to Providence to continue at RISD. The\\nfoundation had merely been intro stuff, and the Accademia had been a (very\\ncivilized) joke. Now I was going to see what real art school was like. But\\nalas it was more like the Accademia than not. Better organized, certainly, and\\na lot more expensive, but it was now becoming clear that art school did not\\nbear the same relationship to art that medical school bore to medicine. At\\nleast not the painting department. The textile department, which my next door\\nneighbor belonged to, seemed to be pretty rigorous. No doubt illustration and\\narchitecture were too. But painting was post-rigorous. Painting students were\\nsupposed to express themselves, which to the more worldly ones meant to try to\\ncook up some sort of distinctive signature style.  \\n  \\nA signature style is the visual equivalent of what in show business is known\\nas a \"schtick\": something that immediately identifies the work as yours and no\\none else\\'s. For example, when you see a painting that looks like a certain\\nkind of cartoon, you know it\\'s by Roy Lichtenstein. So if you see a big\\npainting of this type hanging in the apartment of a hedge fund manager, you\\nknow he paid millions of dollars for it. That\\'s not always why artists have a\\nsignature style, but it\\'s usually why buyers pay a lot for such work. [6]  \\n  \\nThere were plenty of earnest students too: kids who \"could draw\" in high\\nschool, and now had come to what was supposed to be the best art school in the\\ncountry, to learn to draw even better. They tended to be confused and\\ndemoralized by what they found at RISD, but they kept going, because painting\\nwas what they did. I was not one of the kids who could draw in high school,\\nbut at RISD I was definitely closer to their tribe than the tribe of signature\\nstyle seekers.  \\n  \\nI learned a lot in the color class I took at RISD, but otherwise I was\\nbasically teaching myself to paint, and I could do that for free. So in 1993 I\\ndropped out. I hung around Providence for a bit, and then my college friend\\nNancy Parmet did me a big favor. A rent-controlled apartment in a building her\\nmother owned in New York was becoming vacant. Did I want it? It wasn\\'t much\\nmore than my current place, and New York was supposed to be where the artists\\nwere. So yes, I wanted it! [7]  \\n  \\nAsterix comics begin by zooming in on a tiny corner of Roman Gaul that turns\\nout not to be controlled by the Romans. You can do something similar on a map\\nof New York City: if you zoom in on the Upper East Side, there\\'s a tiny corner\\nthat\\'s not rich, or at least wasn\\'t in 1993. It\\'s called Yorkville, and that\\nwas my new home. Now I was a New York artist \\x97 in the strictly technical sense\\nof making paintings and living in New York.  \\n  \\nI was nervous about money, because I could sense that Interleaf was on the way\\ndown. Freelance Lisp hacking work was very rare, and I didn\\'t want to have to\\nprogram in another language, which in those days would have meant C++ if I was\\nlucky. So with my unerring nose for financial opportunity, I decided to write\\nanother book on Lisp. This would be a popular book, the sort of book that\\ncould be used as a textbook. I imagined myself living frugally off the\\nroyalties and spending all my time painting. (The painting on the cover of\\nthis book, _ANSI Common Lisp_ , is one that I painted around this time.)  \\n  \\nThe best thing about New York for me was the presence of Idelle and Julian\\nWeber. Idelle Weber was a painter, one of the early photorealists, and I\\'d\\ntaken her painting class at Harvard. I\\'ve never known a teacher more beloved\\nby her students. Large numbers of former students kept in touch with her,\\nincluding me. After I moved to New York I became her de facto studio\\nassistant.  \\n  \\nShe liked to paint on big, square canvases, 4 to 5 feet on a side. One day in\\nlate 1994 as I was stretching one of these monsters there was something on the\\nradio about a famous fund manager. He wasn\\'t that much older than me, and was\\nsuper rich. The thought suddenly occurred to me: why don\\'t I become rich? Then\\nI\\'ll be able to work on whatever I want.  \\n  \\nMeanwhile I\\'d been hearing more and more about this new thing called the World\\nWide Web. Robert Morris showed it to me when I visited him in Cambridge, where\\nhe was now in grad school at Harvard. It seemed to me that the web would be a\\nbig deal. I\\'d seen what graphical user interfaces had done for the popularity\\nof microcomputers. It seemed like the web would do the same for the internet.  \\n  \\nIf I wanted to get rich, here was the next train leaving the station. I was\\nright about that part. What I got wrong was the idea. I decided we should\\nstart a company to put art galleries online. I can\\'t honestly say, after\\nreading so many Y Combinator applications, that this was the worst startup\\nidea ever, but it was up there. Art galleries didn\\'t want to be online, and\\nstill don\\'t, not the fancy ones. That\\'s not how they sell. I wrote some\\nsoftware to generate web sites for galleries, and Robert wrote some to resize\\nimages and set up an http server to serve the pages. Then we tried to sign up\\ngalleries. To call this a difficult sale would be an understatement. It was\\ndifficult to give away. A few galleries let us make sites for them for free,\\nbut none paid us.  \\n  \\nThen some online stores started to appear, and I realized that except for the\\norder buttons they were identical to the sites we\\'d been generating for\\ngalleries. This impressive-sounding thing called an \"internet storefront\" was\\nsomething we already knew how to build.  \\n  \\nSo in the summer of 1995, after I submitted the camera-ready copy of _ANSI\\nCommon Lisp_ to the publishers, we started trying to write software to build\\nonline stores. At first this was going to be normal desktop software, which in\\nthose days meant Windows software. That was an alarming prospect, because\\nneither of us knew how to write Windows software or wanted to learn. We lived\\nin the Unix world. But we decided we\\'d at least try writing a prototype store\\nbuilder on Unix. Robert wrote a shopping cart, and I wrote a new site\\ngenerator for stores \\x97 in Lisp, of course.  \\n  \\nWe were working out of Robert\\'s apartment in Cambridge. His roommate was away\\nfor big chunks of time, during which I got to sleep in his room. For some\\nreason there was no bed frame or sheets, just a mattress on the floor. One\\nmorning as I was lying on this mattress I had an idea that made me sit up like\\na capital L. What if we ran the software on the server, and let users control\\nit by clicking on links? Then we\\'d never have to write anything to run on\\nusers\\' computers. We could generate the sites on the same server we\\'d serve\\nthem from. Users wouldn\\'t need anything more than a browser.  \\n  \\nThis kind of software, known as a web app, is common now, but at the time it\\nwasn\\'t clear that it was even possible. To find out, we decided to try making\\na version of our store builder that you could control through the browser. A\\ncouple days later, on August 12, we had one that worked. The UI was horrible,\\nbut it proved you could build a whole store through the browser, without any\\nclient software or typing anything into the command line on the server.  \\n  \\nNow we felt like we were really onto something. I had visions of a whole new\\ngeneration of software working this way. You wouldn\\'t need versions, or ports,\\nor any of that crap. At Interleaf there had been a whole group called Release\\nEngineering that seemed to be at least as big as the group that actually wrote\\nthe software. Now you could just update the software right on the server.  \\n  \\nWe started a new company we called Viaweb, after the fact that our software\\nworked via the web, and we got $10,000 in seed funding from Idelle\\'s husband\\nJulian. In return for that and doing the initial legal work and giving us\\nbusiness advice, we gave him 10% of the company. Ten years later this deal\\nbecame the model for Y Combinator\\'s. We knew founders needed something like\\nthis, because we\\'d needed it ourselves.  \\n  \\nAt this stage I had a negative net worth, because the thousand dollars or so I\\nhad in the bank was more than counterbalanced by what I owed the government in\\ntaxes. (Had I diligently set aside the proper proportion of the money I\\'d made\\nconsulting for Interleaf? No, I had not.) So although Robert had his graduate\\nstudent stipend, I needed that seed funding to live on.  \\n  \\nWe originally hoped to launch in September, but we got more ambitious about\\nthe software as we worked on it. Eventually we managed to build a WYSIWYG site\\nbuilder, in the sense that as you were creating pages, they looked exactly\\nlike the static ones that would be generated later, except that instead of\\nleading to static pages, the links all referred to closures stored in a hash\\ntable on the server.  \\n  \\nIt helped to have studied art, because the main goal of an online store\\nbuilder is to make users look legit, and the key to looking legit is high\\nproduction values. If you get page layouts and fonts and colors right, you can\\nmake a guy running a store out of his bedroom look more legit than a big\\ncompany.  \\n  \\n(If you\\'re curious why my site looks so old-fashioned, it\\'s because it\\'s still\\nmade with this software. It may look clunky today, but in 1996 it was the last\\nword in slick.)  \\n  \\nIn September, Robert rebelled. \"We\\'ve been working on this for a month,\" he\\nsaid, \"and it\\'s still not done.\" This is funny in retrospect, because he would\\nstill be working on it almost 3 years later. But I decided it might be prudent\\nto recruit more programmers, and I asked Robert who else in grad school with\\nhim was really good. He recommended Trevor Blackwell, which surprised me at\\nfirst, because at that point I knew Trevor mainly for his plan to reduce\\neverything in his life to a stack of notecards, which he carried around with\\nhim. But Rtm was right, as usual. Trevor turned out to be a frighteningly\\neffective hacker.  \\n  \\nIt was a lot of fun working with Robert and Trevor. They\\'re the two most\\n[_independent-minded_](think.html) people I know, and in completely different\\nways. If you could see inside Rtm\\'s brain it would look like a colonial New\\nEngland church, and if you could see inside Trevor\\'s it would look like the\\nworst excesses of Austrian Rococo.  \\n  \\nWe opened for business, with 6 stores, in January 1996. It was just as well we\\nwaited a few months, because although we worried we were late, we were\\nactually almost fatally early. There was a lot of talk in the press then about\\necommerce, but not many people actually wanted online stores. [8]  \\n  \\nThere were three main parts to the software: the editor, which people used to\\nbuild sites and which I wrote, the shopping cart, which Robert wrote, and the\\nmanager, which kept track of orders and statistics, and which Trevor wrote. In\\nits time, the editor was one of the best general-purpose site builders. I kept\\nthe code tight and didn\\'t have to integrate with any other software except\\nRobert\\'s and Trevor\\'s, so it was quite fun to work on. If all I\\'d had to do\\nwas work on this software, the next 3 years would have been the easiest of my\\nlife. Unfortunately I had to do a lot more, all of it stuff I was worse at\\nthan programming, and the next 3 years were instead the most stressful.  \\n  \\nThere were a lot of startups making ecommerce software in the second half of\\nthe 90s. We were determined to be the Microsoft Word, not the Interleaf. Which\\nmeant being easy to use and inexpensive. It was lucky for us that we were\\npoor, because that caused us to make Viaweb even more inexpensive than we\\nrealized. We charged $100 a month for a small store and $300 a month for a big\\none. This low price was a big attraction, and a constant thorn in the sides of\\ncompetitors, but it wasn\\'t because of some clever insight that we set the\\nprice low. We had no idea what businesses paid for things. $300 a month seemed\\nlike a lot of money to us.  \\n  \\nWe did a lot of things right by accident like that. For example, we did what\\'s\\nnow called \"doing things that [_don\\'t scale_](ds.html),\" although at the time\\nwe would have described it as \"being so lame that we\\'re driven to the most\\ndesperate measures to get users.\" The most common of which was building stores\\nfor them. This seemed particularly humiliating, since the whole raison d\\'etre\\nof our software was that people could use it to make their own stores. But\\nanything to get users.  \\n  \\nWe learned a lot more about retail than we wanted to know. For example, that\\nif you could only have a small image of a man\\'s shirt (and all images were\\nsmall then by present standards), it was better to have a closeup of the\\ncollar than a picture of the whole shirt. The reason I remember learning this\\nwas that it meant I had to rescan about 30 images of men\\'s shirts. My first\\nset of scans were so beautiful too.  \\n  \\nThough this felt wrong, it was exactly the right thing to be doing. Building\\nstores for users taught us about retail, and about how it felt to use our\\nsoftware. I was initially both mystified and repelled by \"business\" and\\nthought we needed a \"business person\" to be in charge of it, but once we\\nstarted to get users, I was converted, in much the same way I was converted to\\n[_fatherhood_](kids.html) once I had kids. Whatever users wanted, I was all\\ntheirs. Maybe one day we\\'d have so many users that I couldn\\'t scan their\\nimages for them, but in the meantime there was nothing more important to do.  \\n  \\nAnother thing I didn\\'t get at the time is that [_growth rate_](growth.html) is\\nthe ultimate test of a startup. Our growth rate was fine. We had about 70\\nstores at the end of 1996 and about 500 at the end of 1997. I mistakenly\\nthought the thing that mattered was the absolute number of users. And that is\\nthe thing that matters in the sense that that\\'s how much money you\\'re making,\\nand if you\\'re not making enough, you might go out of business. But in the long\\nterm the growth rate takes care of the absolute number. If we\\'d been a startup\\nI was advising at Y Combinator, I would have said: Stop being so stressed out,\\nbecause you\\'re doing fine. You\\'re growing 7x a year. Just don\\'t hire too many\\nmore people and you\\'ll soon be profitable, and then you\\'ll control your own\\ndestiny.  \\n  \\nAlas I hired lots more people, partly because our investors wanted me to, and\\npartly because that\\'s what startups did during the Internet Bubble. A company\\nwith just a handful of employees would have seemed amateurish. So we didn\\'t\\nreach breakeven until about when Yahoo bought us in the summer of 1998. Which\\nin turn meant we were at the mercy of investors for the entire life of the\\ncompany. And since both we and our investors were noobs at startups, the\\nresult was a mess even by startup standards.  \\n  \\nIt was a huge relief when Yahoo bought us. In principle our Viaweb stock was\\nvaluable. It was a share in a business that was profitable and growing\\nrapidly. But it didn\\'t feel very valuable to me; I had no idea how to value a\\nbusiness, but I was all too keenly aware of the near-death experiences we\\nseemed to have every few months. Nor had I changed my grad student lifestyle\\nsignificantly since we started. So when Yahoo bought us it felt like going\\nfrom rags to riches. Since we were going to California, I bought a car, a\\nyellow 1998 VW GTI. I remember thinking that its leather seats alone were by\\nfar the most luxurious thing I owned.  \\n  \\nThe next year, from the summer of 1998 to the summer of 1999, must have been\\nthe least productive of my life. I didn\\'t realize it at the time, but I was\\nworn out from the effort and stress of running Viaweb. For a while after I got\\nto California I tried to continue my usual m.o. of programming till 3 in the\\nmorning, but fatigue combined with Yahoo\\'s prematurely aged\\n[_culture_](yahoo.html) and grim cube farm in Santa Clara gradually dragged me\\ndown. After a few months it felt disconcertingly like working at Interleaf.  \\n  \\nYahoo had given us a lot of options when they bought us. At the time I thought\\nYahoo was so overvalued that they\\'d never be worth anything, but to my\\nastonishment the stock went up 5x in the next year. I hung on till the first\\nchunk of options vested, then in the summer of 1999 I left. It had been so\\nlong since I\\'d painted anything that I\\'d half forgotten why I was doing this.\\nMy brain had been entirely full of software and men\\'s shirts for 4 years. But\\nI had done this to get rich so I could paint, I reminded myself, and now I was\\nrich, so I should go paint.  \\n  \\nWhen I said I was leaving, my boss at Yahoo had a long conversation with me\\nabout my plans. I told him all about the kinds of pictures I wanted to paint.\\nAt the time I was touched that he took such an interest in me. Now I realize\\nit was because he thought I was lying. My options at that point were worth\\nabout $2 million a month. If I was leaving that kind of money on the table, it\\ncould only be to go and start some new startup, and if I did, I might take\\npeople with me. This was the height of the Internet Bubble, and Yahoo was\\nground zero of it. My boss was at that moment a billionaire. Leaving then to\\nstart a new startup must have seemed to him an insanely, and yet also\\nplausibly, ambitious plan.  \\n  \\nBut I really was quitting to paint, and I started immediately. There was no\\ntime to lose. I\\'d already burned 4 years getting rich. Now when I talk to\\nfounders who are leaving after selling their companies, my advice is always\\nthe same: take a vacation. That\\'s what I should have done, just gone off\\nsomewhere and done nothing for a month or two, but the idea never occurred to\\nme.  \\n  \\nSo I tried to paint, but I just didn\\'t seem to have any energy or ambition.\\nPart of the problem was that I didn\\'t know many people in California. I\\'d\\ncompounded this problem by buying a house up in the Santa Cruz Mountains, with\\na beautiful view but miles from anywhere. I stuck it out for a few more\\nmonths, then in desperation I went back to New York, where unless you\\nunderstand about rent control you\\'ll be surprised to hear I still had my\\napartment, sealed up like a tomb of my old life. Idelle was in New York at\\nleast, and there were other people trying to paint there, even though I didn\\'t\\nknow any of them.  \\n  \\nWhen I got back to New York I resumed my old life, except now I was rich. It\\nwas as weird as it sounds. I resumed all my old patterns, except now there\\nwere doors where there hadn\\'t been. Now when I was tired of walking, all I had\\nto do was raise my hand, and (unless it was raining) a taxi would stop to pick\\nme up. Now when I walked past charming little restaurants I could go in and\\norder lunch. It was exciting for a while. Painting started to go better. I\\nexperimented with a new kind of still life where I\\'d paint one painting in the\\nold way, then photograph it and print it, blown up, on canvas, and then use\\nthat as the underpainting for a second still life, painted from the same\\nobjects (which hopefully hadn\\'t rotted yet).  \\n  \\nMeanwhile I looked for an apartment to buy. Now I could actually choose what\\nneighborhood to live in. Where, I asked myself and various real estate agents,\\nis the Cambridge of New York? Aided by occasional visits to actual Cambridge,\\nI gradually realized there wasn\\'t one. Huh.  \\n  \\nAround this time, in the spring of 2000, I had an idea. It was clear from our\\nexperience with Viaweb that web apps were the future. Why not build a web app\\nfor making web apps? Why not let people edit code on our server through the\\nbrowser, and then host the resulting applications for them? [9] You could run\\nall sorts of services on the servers that these applications could use just by\\nmaking an API call: making and receiving phone calls, manipulating images,\\ntaking credit card payments, etc.  \\n  \\nI got so excited about this idea that I couldn\\'t think about anything else. It\\nseemed obvious that this was the future. I didn\\'t particularly want to start\\nanother company, but it was clear that this idea would have to be embodied as\\none, so I decided to move to Cambridge and start it. I hoped to lure Robert\\ninto working on it with me, but there I ran into a hitch. Robert was now a\\npostdoc at MIT, and though he\\'d made a lot of money the last time I\\'d lured\\nhim into working on one of my schemes, it had also been a huge time sink. So\\nwhile he agreed that it sounded like a plausible idea, he firmly refused to\\nwork on it.  \\n  \\nHmph. Well, I\\'d do it myself then. I recruited Dan Giffin, who had worked for\\nViaweb, and two undergrads who wanted summer jobs, and we got to work trying\\nto build what it\\'s now clear is about twenty companies and several open source\\nprojects worth of software. The language for defining applications would of\\ncourse be a dialect of Lisp. But I wasn\\'t so naive as to assume I could spring\\nan overt Lisp on a general audience; we\\'d hide the parentheses, like Dylan\\ndid.  \\n  \\nBy then there was a name for the kind of company Viaweb was, an \"application\\nservice provider,\" or ASP. This name didn\\'t last long before it was replaced\\nby \"software as a service,\" but it was current for long enough that I named\\nthis new company after it: it was going to be called Aspra.  \\n  \\nI started working on the application builder, Dan worked on network\\ninfrastructure, and the two undergrads worked on the first two services\\n(images and phone calls). But about halfway through the summer I realized I\\nreally didn\\'t want to run a company \\x97 especially not a big one, which it was\\nlooking like this would have to be. I\\'d only started Viaweb because I needed\\nthe money. Now that I didn\\'t need money anymore, why was I doing this? If this\\nvision had to be realized as a company, then screw the vision. I\\'d build a\\nsubset that could be done as an open source project.  \\n  \\nMuch to my surprise, the time I spent working on this stuff was not wasted\\nafter all. After we started Y Combinator, I would often encounter startups\\nworking on parts of this new architecture, and it was very useful to have\\nspent so much time thinking about it and even trying to write some of it.  \\n  \\nThe subset I would build as an open source project was the new Lisp, whose\\nparentheses I now wouldn\\'t even have to hide. A lot of Lisp hackers dream of\\nbuilding a new Lisp, partly because one of the distinctive features of the\\nlanguage is that it has dialects, and partly, I think, because we have in our\\nminds a Platonic form of Lisp that all existing dialects fall short of. I\\ncertainly did. So at the end of the summer Dan and I switched to working on\\nthis new dialect of Lisp, which I called Arc, in a house I bought in\\nCambridge.  \\n  \\nThe following spring, lightning struck. I was invited to give a talk at a Lisp\\nconference, so I gave one about how we\\'d used Lisp at Viaweb. Afterward I put\\na postscript file of this talk online, on paulgraham.com, which I\\'d created\\nyears before using Viaweb but had never used for anything. In one day it got\\n30,000 page views. What on earth had happened? The referring urls showed that\\nsomeone had posted it on Slashdot. [10]  \\n  \\nWow, I thought, there\\'s an audience. If I write something and put it on the\\nweb, anyone can read it. That may seem obvious now, but it was surprising\\nthen. In the print era there was a narrow channel to readers, guarded by\\nfierce monsters known as editors. The only way to get an audience for anything\\nyou wrote was to get it published as a book, or in a newspaper or magazine.\\nNow anyone could publish anything.  \\n  \\nThis had been possible in principle since 1993, but not many people had\\nrealized it yet. I had been intimately involved with building the\\ninfrastructure of the web for most of that time, and a writer as well, and it\\nhad taken me 8 years to realize it. Even then it took me several years to\\nunderstand the implications. It meant there would be a whole new generation of\\n[_essays_](essay.html). [11]  \\n  \\nIn the print era, the channel for publishing essays had been vanishingly\\nsmall. Except for a few officially anointed thinkers who went to the right\\nparties in New York, the only people allowed to publish essays were\\nspecialists writing about their specialties. There were so many essays that\\nhad never been written, because there had been no way to publish them. Now\\nthey could be, and I was going to write them. [12]  \\n  \\nI\\'ve worked on several different things, but to the extent there was a turning\\npoint where I figured out what to work on, it was when I started publishing\\nessays online. From then on I knew that whatever else I did, I\\'d always write\\nessays too.  \\n  \\nI knew that online essays would be a [_marginal_](marginal.html) medium at\\nfirst. Socially they\\'d seem more like rants posted by nutjobs on their\\nGeoCities sites than the genteel and beautifully typeset compositions\\npublished in _The New Yorker_. But by this point I knew enough to find that\\nencouraging instead of discouraging.  \\n  \\nOne of the most conspicuous patterns I\\'ve noticed in my life is how well it\\nhas worked, for me at least, to work on things that weren\\'t prestigious. Still\\nlife has always been the least prestigious form of painting. Viaweb and Y\\nCombinator both seemed lame when we started them. I still get the glassy eye\\nfrom strangers when they ask what I\\'m writing, and I explain that it\\'s an\\nessay I\\'m going to publish on my web site. Even Lisp, though prestigious\\nintellectually in something like the way Latin is, also seems about as hip.  \\n  \\nIt\\'s not that unprestigious types of work are good per se. But when you find\\nyourself drawn to some kind of work despite its current lack of prestige, it\\'s\\na sign both that there\\'s something real to be discovered there, and that you\\nhave the right kind of motives. Impure motives are a big danger for the\\nambitious. If anything is going to lead you astray, it will be the desire to\\nimpress people. So while working on things that aren\\'t prestigious doesn\\'t\\nguarantee you\\'re on the right track, it at least guarantees you\\'re not on the\\nmost common type of wrong one.  \\n  \\nOver the next several years I wrote lots of essays about all kinds of\\ndifferent topics. O\\'Reilly reprinted a collection of them as a book, called\\n_Hackers & Painters_ after one of the essays in it. I also worked on spam\\nfilters, and did some more painting. I used to have dinners for a group of\\nfriends every thursday night, which taught me how to cook for groups. And I\\nbought another building in Cambridge, a former candy factory (and later, twas\\nsaid, porn studio), to use as an office.  \\n  \\nOne night in October 2003 there was a big party at my house. It was a clever\\nidea of my friend Maria Daniels, who was one of the thursday diners. Three\\nseparate hosts would all invite their friends to one party. So for every\\nguest, two thirds of the other guests would be people they didn\\'t know but\\nwould probably like. One of the guests was someone I didn\\'t know but would\\nturn out to like a lot: a woman called Jessica Livingston. A couple days later\\nI asked her out.  \\n  \\nJessica was in charge of marketing at a Boston investment bank. This bank\\nthought it understood startups, but over the next year, as she met friends of\\nmine from the startup world, she was surprised how different reality was. And\\nhow colorful their stories were. So she decided to compile a book of\\n[_interviews_](https://www.amazon.com/Founders-Work-Stories-Startups-\\nEarly/dp/1430210788) with startup founders.  \\n  \\nWhen the bank had financial problems and she had to fire half her staff, she\\nstarted looking for a new job. In early 2005 she interviewed for a marketing\\njob at a Boston VC firm. It took them weeks to make up their minds, and during\\nthis time I started telling her about all the things that needed to be fixed\\nabout venture capital. They should make a larger number of smaller investments\\ninstead of a handful of giant ones, they should be funding younger, more\\ntechnical founders instead of MBAs, they should let the founders remain as\\nCEO, and so on.  \\n  \\nOne of my tricks for writing essays had always been to give talks. The\\nprospect of having to stand up in front of a group of people and tell them\\nsomething that won\\'t waste their time is a great spur to the imagination. When\\nthe Harvard Computer Society, the undergrad computer club, asked me to give a\\ntalk, I decided I would tell them how to start a startup. Maybe they\\'d be able\\nto avoid the worst of the mistakes we\\'d made.  \\n  \\nSo I gave this talk, in the course of which I told them that the best sources\\nof seed funding were successful startup founders, because then they\\'d be\\nsources of advice too. Whereupon it seemed they were all looking expectantly\\nat me. Horrified at the prospect of having my inbox flooded by business plans\\n(if I\\'d only known), I blurted out \"But not me!\" and went on with the talk.\\nBut afterward it occurred to me that I should really stop procrastinating\\nabout angel investing. I\\'d been meaning to since Yahoo bought us, and now it\\nwas 7 years later and I still hadn\\'t done one angel investment.  \\n  \\nMeanwhile I had been scheming with Robert and Trevor about projects we could\\nwork on together. I missed working with them, and it seemed like there had to\\nbe something we could collaborate on.  \\n  \\nAs Jessica and I were walking home from dinner on March 11, at the corner of\\nGarden and Walker streets, these three threads converged. Screw the VCs who\\nwere taking so long to make up their minds. We\\'d start our own investment firm\\nand actually implement the ideas we\\'d been talking about. I\\'d fund it, and\\nJessica could quit her job and work for it, and we\\'d get Robert and Trevor as\\npartners too. [13]  \\n  \\nOnce again, ignorance worked in our favor. We had no idea how to be angel\\ninvestors, and in Boston in 2005 there were no Ron Conways to learn from. So\\nwe just made what seemed like the obvious choices, and some of the things we\\ndid turned out to be novel.  \\n  \\nThere are multiple components to Y Combinator, and we didn\\'t figure them all\\nout at once. The part we got first was to be an angel firm. In those days,\\nthose two words didn\\'t go together. There were VC firms, which were organized\\ncompanies with people whose job it was to make investments, but they only did\\nbig, million dollar investments. And there were angels, who did smaller\\ninvestments, but these were individuals who were usually focused on other\\nthings and made investments on the side. And neither of them helped founders\\nenough in the beginning. We knew how helpless founders were in some respects,\\nbecause we remembered how helpless we\\'d been. For example, one thing Julian\\nhad done for us that seemed to us like magic was to get us set up as a\\ncompany. We were fine writing fairly difficult software, but actually getting\\nincorporated, with bylaws and stock and all that stuff, how on earth did you\\ndo that? Our plan was not only to make seed investments, but to do for\\nstartups everything Julian had done for us.  \\n  \\nYC was not organized as a fund. It was cheap enough to run that we funded it\\nwith our own money. That went right by 99% of readers, but professional\\ninvestors are thinking \"Wow, that means they got all the returns.\" But once\\nagain, this was not due to any particular insight on our part. We didn\\'t know\\nhow VC firms were organized. It never occurred to us to try to raise a fund,\\nand if it had, we wouldn\\'t have known where to start. [14]  \\n  \\nThe most distinctive thing about YC is the batch model: to fund a bunch of\\nstartups all at once, twice a year, and then to spend three months focusing\\nintensively on trying to help them. That part we discovered by accident, not\\nmerely implicitly but explicitly due to our ignorance about investing. We\\nneeded to get experience as investors. What better way, we thought, than to\\nfund a whole bunch of startups at once? We knew undergrads got temporary jobs\\nat tech companies during the summer. Why not organize a summer program where\\nthey\\'d start startups instead? We wouldn\\'t feel guilty for being in a sense\\nfake investors, because they would in a similar sense be fake founders. So\\nwhile we probably wouldn\\'t make much money out of it, we\\'d at least get to\\npractice being investors on them, and they for their part would probably have\\na more interesting summer than they would working at Microsoft.  \\n  \\nWe\\'d use the building I owned in Cambridge as our headquarters. We\\'d all have\\ndinner there once a week \\x97 on tuesdays, since I was already cooking for the\\nthursday diners on thursdays \\x97 and after dinner we\\'d bring in experts on\\nstartups to give talks.  \\n  \\nWe knew undergrads were deciding then about summer jobs, so in a matter of\\ndays we cooked up something we called the Summer Founders Program, and I\\nposted an [_announcement_](summerfounder.html) on my site, inviting undergrads\\nto apply. I had never imagined that writing essays would be a way to get \"deal\\nflow,\" as investors call it, but it turned out to be the perfect source. [15]\\nWe got 225 applications for the Summer Founders Program, and we were surprised\\nto find that a lot of them were from people who\\'d already graduated, or were\\nabout to that spring. Already this SFP thing was starting to feel more serious\\nthan we\\'d intended.  \\n  \\nWe invited about 20 of the 225 groups to interview in person, and from those\\nwe picked 8 to fund. They were an impressive group. That first batch included\\nreddit, Justin Kan and Emmett Shear, who went on to found Twitch, Aaron\\nSwartz, who had already helped write the RSS spec and would a few years later\\nbecome a martyr for open access, and Sam Altman, who would later become the\\nsecond president of YC. I don\\'t think it was entirely luck that the first\\nbatch was so good. You had to be pretty bold to sign up for a weird thing like\\nthe Summer Founders Program instead of a summer job at a legit place like\\nMicrosoft or Goldman Sachs.  \\n  \\nThe deal for startups was based on a combination of the deal we did with\\nJulian ($10k for 10%) and what Robert said MIT grad students got for the\\nsummer ($6k). We invested $6k per founder, which in the typical two-founder\\ncase was $12k, in return for 6%. That had to be fair, because it was twice as\\ngood as the deal we ourselves had taken. Plus that first summer, which was\\nreally hot, Jessica brought the founders free air conditioners. [16]  \\n  \\nFairly quickly I realized that we had stumbled upon the way to scale startup\\nfunding. Funding startups in batches was more convenient for us, because it\\nmeant we could do things for a lot of startups at once, but being part of a\\nbatch was better for the startups too. It solved one of the biggest problems\\nfaced by founders: the isolation. Now you not only had colleagues, but\\ncolleagues who understood the problems you were facing and could tell you how\\nthey were solving them.  \\n  \\nAs YC grew, we started to notice other advantages of scale. The alumni became\\na tight community, dedicated to helping one another, and especially the\\ncurrent batch, whose shoes they remembered being in. We also noticed that the\\nstartups were becoming one another\\'s customers. We used to refer jokingly to\\nthe \"YC GDP,\" but as YC grows this becomes less and less of a joke. Now lots\\nof startups get their initial set of customers almost entirely from among\\ntheir batchmates.  \\n  \\nI had not originally intended YC to be a full-time job. I was going to do\\nthree things: hack, write essays, and work on YC. As YC grew, and I grew more\\nexcited about it, it started to take up a lot more than a third of my\\nattention. But for the first few years I was still able to work on other\\nthings.  \\n  \\nIn the summer of 2006, Robert and I started working on a new version of Arc.\\nThis one was reasonably fast, because it was compiled into Scheme. To test\\nthis new Arc, I wrote Hacker News in it. It was originally meant to be a news\\naggregator for startup founders and was called Startup News, but after a few\\nmonths I got tired of reading about nothing but startups. Plus it wasn\\'t\\nstartup founders we wanted to reach. It was future startup founders. So I\\nchanged the name to Hacker News and the topic to whatever engaged one\\'s\\nintellectual curiosity.  \\n  \\nHN was no doubt good for YC, but it was also by far the biggest source of\\nstress for me. If all I\\'d had to do was select and help founders, life would\\nhave been so easy. And that implies that HN was a mistake. Surely the biggest\\nsource of stress in one\\'s work should at least be something close to the core\\nof the work. Whereas I was like someone who was in pain while running a\\nmarathon not from the exertion of running, but because I had a blister from an\\nill-fitting shoe. When I was dealing with some urgent problem during YC, there\\nwas about a 60% chance it had to do with HN, and a 40% chance it had do with\\neverything else combined. [17]  \\n  \\nAs well as HN, I wrote all of YC\\'s internal software in Arc. But while I\\ncontinued to work a good deal _in_ Arc, I gradually stopped working _on_ Arc,\\npartly because I didn\\'t have time to, and partly because it was a lot less\\nattractive to mess around with the language now that we had all this\\ninfrastructure depending on it. So now my three projects were reduced to two:\\nwriting essays and working on YC.  \\n  \\nYC was different from other kinds of work I\\'ve done. Instead of deciding for\\nmyself what to work on, the problems came to me. Every 6 months there was a\\nnew batch of startups, and their problems, whatever they were, became our\\nproblems. It was very engaging work, because their problems were quite varied,\\nand the good founders were very effective. If you were trying to learn the\\nmost you could about startups in the shortest possible time, you couldn\\'t have\\npicked a better way to do it.  \\n  \\nThere were parts of the job I didn\\'t like. Disputes between cofounders,\\nfiguring out when people were lying to us, fighting with people who maltreated\\nthe startups, and so on. But I worked hard even at the parts I didn\\'t like. I\\nwas haunted by something Kevin Hale once said about companies: \"No one works\\nharder than the boss.\" He meant it both descriptively and prescriptively, and\\nit was the second part that scared me. I wanted YC to be good, so if how hard\\nI worked set the upper bound on how hard everyone else worked, I\\'d better work\\nvery hard.  \\n  \\nOne day in 2010, when he was visiting California for interviews, Robert Morris\\ndid something astonishing: he offered me unsolicited advice. I can only\\nremember him doing that once before. One day at Viaweb, when I was bent over\\ndouble from a kidney stone, he suggested that it would be a good idea for him\\nto take me to the hospital. That was what it took for Rtm to offer unsolicited\\nadvice. So I remember his exact words very clearly. \"You know,\" he said, \"you\\nshould make sure Y Combinator isn\\'t the last cool thing you do.\"  \\n  \\nAt the time I didn\\'t understand what he meant, but gradually it dawned on me\\nthat he was saying I should quit. This seemed strange advice, because YC was\\ndoing great. But if there was one thing rarer than Rtm offering advice, it was\\nRtm being wrong. So this set me thinking. It was true that on my current\\ntrajectory, YC would be the last thing I did, because it was only taking up\\nmore of my attention. It had already eaten Arc, and was in the process of\\neating essays too. Either YC was my life\\'s work or I\\'d have to leave\\neventually. And it wasn\\'t, so I would.  \\n  \\nIn the summer of 2012 my mother had a stroke, and the cause turned out to be a\\nblood clot caused by colon cancer. The stroke destroyed her balance, and she\\nwas put in a nursing home, but she really wanted to get out of it and back to\\nher house, and my sister and I were determined to help her do it. I used to\\nfly up to Oregon to visit her regularly, and I had a lot of time to think on\\nthose flights. On one of them I realized I was ready to hand YC over to\\nsomeone else.  \\n  \\nI asked Jessica if she wanted to be president, but she didn\\'t, so we decided\\nwe\\'d try to recruit Sam Altman. We talked to Robert and Trevor and we agreed\\nto make it a complete changing of the guard. Up till that point YC had been\\ncontrolled by the original LLC we four had started. But we wanted YC to last\\nfor a long time, and to do that it couldn\\'t be controlled by the founders. So\\nif Sam said yes, we\\'d let him reorganize YC. Robert and I would retire, and\\nJessica and Trevor would become ordinary partners.  \\n  \\nWhen we asked Sam if he wanted to be president of YC, initially he said no. He\\nwanted to start a startup to make nuclear reactors. But I kept at it, and in\\nOctober 2013 he finally agreed. We decided he\\'d take over starting with the\\nwinter 2014 batch. For the rest of 2013 I left running YC more and more to\\nSam, partly so he could learn the job, and partly because I was focused on my\\nmother, whose cancer had returned.  \\n  \\nShe died on January 15, 2014. We knew this was coming, but it was still hard\\nwhen it did.  \\n  \\nI kept working on YC till March, to help get that batch of startups through\\nDemo Day, then I checked out pretty completely. (I still talk to alumni and to\\nnew startups working on things I\\'m interested in, but that only takes a few\\nhours a week.)  \\n  \\nWhat should I do next? Rtm\\'s advice hadn\\'t included anything about that. I\\nwanted to do something completely different, so I decided I\\'d paint. I wanted\\nto see how good I could get if I really focused on it. So the day after I\\nstopped working on YC, I started painting. I was rusty and it took a while to\\nget back into shape, but it was at least completely engaging. [18]  \\n  \\nI spent most of the rest of 2014 painting. I\\'d never been able to work so\\nuninterruptedly before, and I got to be better than I had been. Not good\\nenough, but better. Then in November, right in the middle of a painting, I ran\\nout of steam. Up till that point I\\'d always been curious to see how the\\npainting I was working on would turn out, but suddenly finishing this one\\nseemed like a chore. So I stopped working on it and cleaned my brushes and\\nhaven\\'t painted since. So far anyway.  \\n  \\nI realize that sounds rather wimpy. But attention is a zero sum game. If you\\ncan choose what to work on, and you choose a project that\\'s not the best one\\n(or at least a good one) for you, then it\\'s getting in the way of another\\nproject that is. And at 50 there was some opportunity cost to screwing around.  \\n  \\nI started writing essays again, and wrote a bunch of new ones over the next\\nfew months. I even wrote a couple that [_weren\\'t_](know.html) about startups.\\nThen in March 2015 I started working on Lisp again.  \\n  \\nThe distinctive thing about Lisp is that its core is a language defined by\\nwriting an interpreter in itself. It wasn\\'t originally intended as a\\nprogramming language in the ordinary sense. It was meant to be a formal model\\nof computation, an alternative to the Turing machine. If you want to write an\\ninterpreter for a language in itself, what\\'s the minimum set of predefined\\noperators you need? The Lisp that John McCarthy invented, or more accurately\\ndiscovered, is an answer to that question. [19]  \\n  \\nMcCarthy didn\\'t realize this Lisp could even be used to program computers till\\nhis grad student Steve Russell suggested it. Russell translated McCarthy\\'s\\ninterpreter into IBM 704 machine language, and from that point Lisp started\\nalso to be a programming language in the ordinary sense. But its origins as a\\nmodel of computation gave it a power and elegance that other languages\\ncouldn\\'t match. It was this that attracted me in college, though I didn\\'t\\nunderstand why at the time.  \\n  \\nMcCarthy\\'s 1960 Lisp did nothing more than interpret Lisp expressions. It was\\nmissing a lot of things you\\'d want in a programming language. So these had to\\nbe added, and when they were, they weren\\'t defined using McCarthy\\'s original\\naxiomatic approach. That wouldn\\'t have been feasible at the time. McCarthy\\ntested his interpreter by hand-simulating the execution of programs. But it\\nwas already getting close to the limit of interpreters you could test that way\\n\\x97 indeed, there was a bug in it that McCarthy had overlooked. To test a more\\ncomplicated interpreter, you\\'d have had to run it, and computers then weren\\'t\\npowerful enough.  \\n  \\nNow they are, though. Now you could continue using McCarthy\\'s axiomatic\\napproach till you\\'d defined a complete programming language. And as long as\\nevery change you made to McCarthy\\'s Lisp was a discoveredness-preserving\\ntransformation, you could, in principle, end up with a complete language that\\nhad this quality. Harder to do than to talk about, of course, but if it was\\npossible in principle, why not try? So I decided to take a shot at it. It took\\n4 years, from March 26, 2015 to October 12, 2019. It was fortunate that I had\\na precisely defined goal, or it would have been hard to keep at it for so\\nlong.  \\n  \\nI wrote this new Lisp, called [_Bel_](bel.html), in itself in Arc. That may\\nsound like a contradiction, but it\\'s an indication of the sort of trickery I\\nhad to engage in to make this work. By means of an egregious collection of\\nhacks I managed to make something close enough to an interpreter written in\\nitself that could actually run. Not fast, but fast enough to test.  \\n  \\nI had to ban myself from writing essays during most of this time, or I\\'d never\\nhave finished. In late 2015 I spent 3 months writing essays, and when I went\\nback to working on Bel I could barely understand the code. Not so much because\\nit was badly written as because the problem is so convoluted. When you\\'re\\nworking on an interpreter written in itself, it\\'s hard to keep track of what\\'s\\nhappening at what level, and errors can be practically encrypted by the time\\nyou get them.  \\n  \\nSo I said no more essays till Bel was done. But I told few people about Bel\\nwhile I was working on it. So for years it must have seemed that I was doing\\nnothing, when in fact I was working harder than I\\'d ever worked on anything.\\nOccasionally after wrestling for hours with some gruesome bug I\\'d check\\nTwitter or HN and see someone asking \"Does Paul Graham still code?\"  \\n  \\nWorking on Bel was hard but satisfying. I worked on it so intensively that at\\nany given time I had a decent chunk of the code in my head and could write\\nmore there. I remember taking the boys to the coast on a sunny day in 2015 and\\nfiguring out how to deal with some problem involving continuations while I\\nwatched them play in the tide pools. It felt like I was doing life right. I\\nremember that because I was slightly dismayed at how novel it felt. The good\\nnews is that I had more moments like this over the next few years.  \\n  \\nIn the summer of 2016 we moved to England. We wanted our kids to see what it\\nwas like living in another country, and since I was a British citizen by\\nbirth, that seemed the obvious choice. We only meant to stay for a year, but\\nwe liked it so much that we still live there. So most of Bel was written in\\nEngland.  \\n  \\nIn the fall of 2019, Bel was finally finished. Like McCarthy\\'s original Lisp,\\nit\\'s a spec rather than an implementation, although like McCarthy\\'s Lisp it\\'s\\na spec expressed as code.  \\n  \\nNow that I could write essays again, I wrote a bunch about topics I\\'d had\\nstacked up. I kept writing essays through 2020, but I also started to think\\nabout other things I could work on. How should I choose what to do? Well, how\\nhad I chosen what to work on in the past? I wrote an essay for myself to\\nanswer that question, and I was surprised how long and messy the answer turned\\nout to be. If this surprised me, who\\'d lived it, then I thought perhaps it\\nwould be interesting to other people, and encouraging to those with similarly\\nmessy lives. So I wrote a more detailed version for others to read, and this\\nis the last sentence of it.  \\n  \\n  \\n  \\n  \\n  \\n  \\n  \\n  \\n  \\n**Notes**  \\n  \\n[1] My experience skipped a step in the evolution of computers: time-sharing\\nmachines with interactive OSes. I went straight from batch processing to\\nmicrocomputers, which made microcomputers seem all the more exciting.  \\n  \\n[2] Italian words for abstract concepts can nearly always be predicted from\\ntheir English cognates (except for occasional traps like _polluzione_ ). It\\'s\\nthe everyday words that differ. So if you string together a lot of abstract\\nconcepts with a few simple verbs, you can make a little Italian go a long way.  \\n  \\n[3] I lived at Piazza San Felice 4, so my walk to the Accademia went straight\\ndown the spine of old Florence: past the Pitti, across the bridge, past\\nOrsanmichele, between the Duomo and the Baptistery, and then up Via Ricasoli\\nto Piazza San Marco. I saw Florence at street level in every possible\\ncondition, from empty dark winter evenings to sweltering summer days when the\\nstreets were packed with tourists.  \\n  \\n[4] You can of course paint people like still lives if you want to, and\\nthey\\'re willing. That sort of portrait is arguably the apex of still life\\npainting, though the long sitting does tend to produce pained expressions in\\nthe sitters.  \\n  \\n[5] Interleaf was one of many companies that had smart people and built\\nimpressive technology, and yet got crushed by Moore\\'s Law. In the 1990s the\\nexponential growth in the power of commodity (i.e. Intel) processors rolled up\\nhigh-end, special-purpose hardware and software companies like a bulldozer.  \\n  \\n[6] The signature style seekers at RISD weren\\'t specifically mercenary. In the\\nart world, money and coolness are tightly coupled. Anything expensive comes to\\nbe seen as cool, and anything seen as cool will soon become equally expensive.  \\n  \\n[7] Technically the apartment wasn\\'t rent-controlled but rent-stabilized, but\\nthis is a refinement only New Yorkers would know or care about. The point is\\nthat it was really cheap, less than half market price.  \\n  \\n[8] Most software you can launch as soon as it\\'s done. But when the software\\nis an online store builder and you\\'re hosting the stores, if you don\\'t have\\nany users yet, that fact will be painfully obvious. So before we could launch\\npublicly we had to launch privately, in the sense of recruiting an initial set\\nof users and making sure they had decent-looking stores.  \\n  \\n[9] We\\'d had a code editor in Viaweb for users to define their own page\\nstyles. They didn\\'t know it, but they were editing Lisp expressions\\nunderneath. But this wasn\\'t an app editor, because the code ran when the\\nmerchants\\' sites were generated, not when shoppers visited them.  \\n  \\n[10] This was the first instance of what is now a familiar experience, and so\\nwas what happened next, when I read the comments and found they were full of\\nangry people. How could I claim that Lisp was better than other languages?\\nWeren\\'t they all Turing complete? People who see the responses to essays I\\nwrite sometimes tell me how sorry they feel for me, but I\\'m not exaggerating\\nwhen I reply that it has always been like this, since the very beginning. It\\ncomes with the territory. An essay must tell readers things they [_don\\'t\\nalready know_](useful.html), and some people dislike being told such things.  \\n  \\n[11] People put plenty of stuff on the internet in the 90s of course, but\\nputting something online is not the same as publishing it online. Publishing\\nonline means you treat the online version as the (or at least a) primary\\nversion.  \\n  \\n[12] There is a general lesson here that our experience with Y Combinator also\\nteaches: Customs continue to constrain you long after the restrictions that\\ncaused them have disappeared. Customary VC practice had once, like the customs\\nabout publishing essays, been based on real constraints. Startups had once\\nbeen much more expensive to start, and proportionally rare. Now they could be\\ncheap and common, but the VCs\\' customs still reflected the old world, just as\\ncustoms about writing essays still reflected the constraints of the print era.  \\n  \\nWhich in turn implies that people who are independent-minded (i.e. less\\ninfluenced by custom) will have an advantage in fields affected by rapid\\nchange (where customs are more likely to be obsolete).  \\n  \\nHere\\'s an interesting point, though: you can\\'t always predict which fields\\nwill be affected by rapid change. Obviously software and venture capital will\\nbe, but who would have predicted that essay writing would be?  \\n  \\n[13] Y Combinator was not the original name. At first we were called Cambridge\\nSeed. But we didn\\'t want a regional name, in case someone copied us in Silicon\\nValley, so we renamed ourselves after one of the coolest tricks in the lambda\\ncalculus, the Y combinator.  \\n  \\nI picked orange as our color partly because it\\'s the warmest, and partly\\nbecause no VC used it. In 2005 all the VCs used staid colors like maroon, navy\\nblue, and forest green, because they were trying to appeal to LPs, not\\nfounders. The YC logo itself is an inside joke: the Viaweb logo had been a\\nwhite V on a red circle, so I made the YC logo a white Y on an orange square.  \\n  \\n[14] YC did become a fund for a couple years starting in 2009, because it was\\ngetting so big I could no longer afford to fund it personally. But after\\nHeroku got bought we had enough money to go back to being self-funded.  \\n  \\n[15] I\\'ve never liked the term \"deal flow,\" because it implies that the number\\nof new startups at any given time is fixed. This is not only false, but it\\'s\\nthe purpose of YC to falsify it, by causing startups to be founded that would\\nnot otherwise have existed.  \\n  \\n[16] She reports that they were all different shapes and sizes, because there\\nwas a run on air conditioners and she had to get whatever she could, but that\\nthey were all heavier than she could carry now.  \\n  \\n[17] Another problem with HN was a bizarre edge case that occurs when you both\\nwrite essays and run a forum. When you run a forum, you\\'re assumed to see if\\nnot every conversation, at least every conversation involving you. And when\\nyou write essays, people post highly imaginative misinterpretations of them on\\nforums. Individually these two phenomena are tedious but bearable, but the\\ncombination is disastrous. You actually have to respond to the\\nmisinterpretations, because the assumption that you\\'re present in the\\nconversation means that not responding to any sufficiently upvoted\\nmisinterpretation reads as a tacit admission that it\\'s correct. But that in\\nturn encourages more; anyone who wants to pick a fight with you senses that\\nnow is their chance.  \\n  \\n[18] The worst thing about leaving YC was not working with Jessica anymore.\\nWe\\'d been working on YC almost the whole time we\\'d known each other, and we\\'d\\nneither tried nor wanted to separate it from our personal lives, so leaving\\nwas like pulling up a deeply rooted tree.  \\n  \\n[19] One way to get more precise about the concept of invented vs discovered\\nis to talk about space aliens. Any sufficiently advanced alien civilization\\nwould certainly know about the Pythagorean theorem, for example. I believe,\\nthough with less certainty, that they would also know about the Lisp in\\nMcCarthy\\'s 1960 paper.  \\n  \\nBut if so there\\'s no reason to suppose that this is the limit of the language\\nthat might be known to them. Presumably aliens need numbers and errors and I/O\\ntoo. So it seems likely there exists at least one path out of McCarthy\\'s Lisp\\nalong which discoveredness is preserved.  \\n  \\n  \\n  \\n **Thanks** to Trevor Blackwell, John Collison, Patrick Collison, Daniel\\nGackle, Ralph Hazell, Jessica Livingston, Robert Morris, and Harj Taggar for\\nreading drafts of this.  \\n  \\n  \\n---  \\n  \\n  \\n\\n* * *  \\n  \\n---\\n\\n', start_char_idx=None, end_char_idx=None, text_template='{metadata_str}\\n\\n{content}', metadata_template='{key}: {value}', metadata_seperator='\\n')]"
            ]
          },
          "execution_count": 3,
          "metadata": {},
          "output_type": "execute_result"
        }
      ],
      "source": [
        "from llama_index.readers.web import SimpleWebPageReader\n",
        "\n",
        "documents = SimpleWebPageReader(\n",
        "    html_to_text=True\n",
        ").load_data([\"http://paulgraham.com/worked.html\"])\n",
        "documents"
      ]
    },
    {
      "cell_type": "code",
      "execution_count": 12,
      "metadata": {
        "colab": {
          "base_uri": "https://localhost:8080/",
          "height": 81,
          "referenced_widgets": [
            "42abd41bb549421f8680517f97b03b8f",
            "20552da6c2b8436cbba7b3ce6338b295",
            "5ecef3a5be5c4941ab0d4b34f7e5fa77",
            "ef1e644267134c718ad62bb53d0c63f1",
            "359486ce32b047b4a34dcf42e0b81004",
            "5b0048f4b9124784b5e767bcd7533683",
            "e1741a85a9c74025a83cb815a694eed6",
            "69c8a60a92f24832bd582dcf78738129",
            "7e5804d74c1e4333b9f95122fb8c96cc",
            "9b812c97e5934475b3316dada1fd992e",
            "38773a9b07e24e0789412377b84518b7",
            "cc2842c56d6d4fffb6473dd24e453e5f",
            "ec0ab4f5547a46cd85998addd008cd64",
            "0db6fb29f4f64118ae9b9d6e81e15ef0",
            "5fe8bc5f962a49b8a9278fa6cdadcc21",
            "dfddcccae608466980b729effdd117f0",
            "8a7ffefe09db42a0bd028109a64909a6",
            "0fa685503e964fafadde5abcf202bb1e",
            "13931b3e193749009caa7ef4ccea7967",
            "06bbd7e875f346958667df732f7cf574",
            "8cde791ada994503ad415364d6d33890",
            "51d5bafd273b4c7bbe169f8d27462285"
          ]
        },
        "id": "tr7YetUgAeMn",
        "outputId": "21004cf0-2a79-4bae-fd70-ba616f504c1d"
      },
      "outputs": [
        {
          "name": "stderr",
          "output_type": "stream",
          "text": [
            "Parsing nodes: 100%|██████████| 1/1 [00:00<00:00, 20.66it/s]\n",
            "Generating embeddings: 100%|██████████| 23/23 [00:05<00:00,  4.40it/s]\n"
          ]
        }
      ],
      "source": [
        "\n",
        "from llama_index import VectorStoreIndex, StorageContext, ServiceContext\n",
        "from llama_index.embeddings import GeminiEmbedding\n",
        "from llama_index.llms import Gemini\n",
        "from llama_index.vector_stores import QdrantVectorStore\n",
        "import qdrant_client\n",
        "# from llama_index.vector_stores import ChromaVectorStore\n",
        "# import chromadb\n",
        "from llama_index import StorageContext\n",
        "\n",
        "# Create a local Qdrant vector store\n",
        "client = qdrant_client.QdrantClient(path=\"qdrant_gemini_3\")\n",
        "\n",
        "vector_store = QdrantVectorStore(client=client, collection_name=\"collection\")\n",
        "\n",
        "# # initialize client, setting path to save data\n",
        "# db = chromadb.PersistentClient(path=\"./chroma_db\")\n",
        "\n",
        "# # create collection\n",
        "# chroma_collection = db.get_or_create_collection(\"quickstart\")\n",
        "\n",
        "# # assign chroma as the vector_store to the context\n",
        "# vector_store = ChromaVectorStore(chroma_collection=chroma_collection)\n",
        "\n",
        "# Using the embedding model to Gemini\n",
        "embed_model = GeminiEmbedding(\n",
        "    model_name=\"models/embedding-001\", api_key=GOOGLE_API_KEY\n",
        ")\n",
        "service_context = ServiceContext.from_defaults(\n",
        "    llm=Gemini(api_key=GOOGLE_API_KEY), embed_model=embed_model\n",
        ")\n",
        "storage_context = StorageContext.from_defaults(vector_store=vector_store)\n",
        "\n",
        "index = VectorStoreIndex.from_documents(\n",
        "    documents,\n",
        "    service_context=service_context,\n",
        "    storage_context=storage_context,\n",
        "    show_progress=True,\n",
        ")\n",
        "\n",
        "query_engine = index.as_query_engine()"
      ]
    },
    {
      "cell_type": "markdown",
      "metadata": {
        "id": "s1xzZiw1SEBu"
      },
      "source": [
        "### Send your first request"
      ]
    },
    {
      "cell_type": "code",
      "execution_count": 13,
      "metadata": {
        "colab": {
          "base_uri": "https://localhost:8080/",
          "height": 34
        },
        "id": "ZCi6n6xoSEBv",
        "outputId": "82ecc05a-5597-49a7-a9af-f29b38d52c49"
      },
      "outputs": [
        {
          "name": "stdout",
          "output_type": "stream",
          "text": [
            "The author initially studied philosophy in college but found it boring and switched to AI. They then pursued a PhD in computer science at Harvard while also taking art classes. After completing their PhD, they applied to art schools and was accepted into the BFA program at RISD. They also received an invitation to take the entrance exam at the Accademia di Belli Arti in Florence, which they passed. However, the author ultimately decided to attend RISD.\n"
          ]
        }
      ],
      "source": [
        "response = query_engine.query(\"What does the author say about their education?\")\n",
        "print(response)"
      ]
    },
    {
      "cell_type": "code",
      "execution_count": 14,
      "metadata": {
        "colab": {
          "base_uri": "https://localhost:8080/",
          "height": 34
        },
        "id": "12GcVxvmPucp",
        "outputId": "7ff9e226-36d3-48a1-e4d5-9de64047dd02"
      },
      "outputs": [
        {
          "name": "stdout",
          "output_type": "stream",
          "text": [
            "The author attended Harvard University for a PhD program in computer science, the Rhode Island School of Design (RISD) for a BFA program, and the Accademia di Belli Arti in Florence for an entrance exam.\n"
          ]
        }
      ],
      "source": [
        "response = query_engine.query(\"Where did the author go to school?\")\n",
        "print(response)"
      ]
    },
    {
      "cell_type": "code",
      "execution_count": 15,
      "metadata": {
        "colab": {
          "base_uri": "https://localhost:8080/",
          "height": 34
        },
        "id": "NE4h0I0HP6cr",
        "outputId": "d6c87911-7a26-4a95-d750-b677ae8fb972"
      },
      "outputs": [
        {
          "name": "stdout",
          "output_type": "stream",
          "text": [
            "The provided context does not mention the author's Harvard PhD advisor, so I cannot answer this question from the provided context.\n"
          ]
        }
      ],
      "source": [
        "response = query_engine.query(\"Who was the author's Harvard PhD advisor?\")\n",
        "print(response)"
      ]
    },
    {
      "cell_type": "code",
      "execution_count": 61,
      "metadata": {
        "colab": {
          "base_uri": "https://localhost:8080/",
          "height": 34
        },
        "id": "vSSZLBHFQuKX",
        "outputId": "f7a988ee-0bb0-4156-d656-8b198d14c174"
      },
      "outputs": [
        {
          "name": "stdout",
          "output_type": "stream",
          "text": [
            "Tom Cheatham was the author's advisor in the PhD program in computer science at Harvard.\n"
          ]
        }
      ],
      "source": [
        "response = query_engine.query(\"who was Tom Cheatham to the author?\")\n",
        "print(response)"
      ]
    },
    {
      "cell_type": "code",
      "execution_count": 63,
      "metadata": {
        "colab": {
          "base_uri": "https://localhost:8080/",
          "height": 54
        },
        "id": "7rqlmfTfQ7a3",
        "outputId": "231a795a-a8c3-4f03-ed5e-5c588d93acfd"
      },
      "outputs": [
        {
          "name": "stdout",
          "output_type": "stream",
          "text": [
            "Tom Cheatham is a professor at Harvard University. He is mentioned in the story because the narrator, who is a PhD student in computer science at Harvard, takes art classes at the university and Cheatham is his advisor. Cheatham is described as being very easy going and not saying anything about the narrator's strange class choices.\n"
          ]
        }
      ],
      "source": [
        "response = query_engine.query(\"who is Tom? why is he in this story?\")\n",
        "print(response)"
      ]
    },
    {
      "cell_type": "code",
      "execution_count": 16,
      "metadata": {
        "colab": {
          "base_uri": "https://localhost:8080/",
          "height": 141
        },
        "id": "e7NHvID2Sm_A",
        "outputId": "0cf35819-cd40-4348-8ca1-61fb37c4230e"
      },
      "outputs": [
        {
          "name": "stdout",
          "output_type": "stream",
          "text": [
            "This story is about the author's journey in pursuing his passion for artificial intelligence (AI) and his experiences in the field. The author initially had high hopes for AI, believing it could lead to the discovery of ultimate truths. However, he later realized that the AI practices at the time were limited and not capable of achieving true understanding of natural language.\n",
            "\n",
            "The author's most important message to the reader is that prestige is a danger sign. He emphasizes the importance of focusing on the practical aspects of technology and not being swayed by prestige or high-end solutions. He believes that the \"low end\" or entry-level options often have the potential to disrupt and eventually overtake the high end.\n"
          ]
        }
      ],
      "source": [
        "response = query_engine.query(\"what is this story about?  what are the most important things the author want the reader to learn?\")\n",
        "print(response)"
      ]
    },
    {
      "cell_type": "markdown",
      "metadata": {
        "id": "-cMfasabSEBv"
      },
      "source": [
        "## Initialize Feedback Function(s)"
      ]
    },
    {
      "cell_type": "code",
      "execution_count": 17,
      "metadata": {
        "colab": {
          "base_uri": "https://localhost:8080/"
        },
        "id": "8gEMHas7SEBv",
        "outputId": "912e9f1a-81db-4365-ef76-2fe69ca37699"
      },
      "outputs": [
        {
          "name": "stdout",
          "output_type": "stream",
          "text": [
            "✅ In groundedness_measure_with_cot_reasons, input source will be set to __record__.app.query.rets.source_nodes[:].node.text.collect() .\n",
            "✅ In groundedness_measure_with_cot_reasons, input statement will be set to __record__.main_output or `Select.RecordOutput` .\n",
            "✅ In relevance, input prompt will be set to __record__.main_input or `Select.RecordInput` .\n",
            "✅ In relevance, input response will be set to __record__.main_output or `Select.RecordOutput` .\n",
            "✅ In qs_relevance, input question will be set to __record__.main_input or `Select.RecordInput` .\n",
            "✅ In qs_relevance, input statement will be set to __record__.app.query.rets.source_nodes[:].node.text .\n"
          ]
        }
      ],
      "source": [
        "import numpy as np\n",
        "\n",
        "# Initialize provider class\n",
        "openai = OpenAI()\n",
        "\n",
        "grounded = Groundedness(groundedness_provider=openai)\n",
        "\n",
        "# Define a groundedness feedback function\n",
        "f_groundedness = Feedback(grounded.groundedness_measure_with_cot_reasons).on(\n",
        "    TruLlama.select_source_nodes().node.text.collect()\n",
        "    ).on_output(\n",
        "    ).aggregate(grounded.grounded_statements_aggregator)\n",
        "\n",
        "# Question/answer relevance between overall question and answer.\n",
        "f_qa_relevance = Feedback(openai.relevance).on_input_output()\n",
        "\n",
        "# Question/statement relevance between question and each context chunk.\n",
        "f_qs_relevance = Feedback(openai.qs_relevance).on_input().on(\n",
        "    TruLlama.select_source_nodes().node.text\n",
        "    ).aggregate(np.mean)"
      ]
    },
    {
      "cell_type": "markdown",
      "metadata": {
        "id": "hY4Lw8wmSEBv"
      },
      "source": [
        "## Instrument app for logging with TruLens"
      ]
    },
    {
      "cell_type": "code",
      "execution_count": 19,
      "metadata": {
        "id": "CwW2IJ8XSEBv"
      },
      "outputs": [],
      "source": [
        "tru_query_engine_recorder = TruLlama(query_engine,\n",
        "    app_id='LlamaIndex_App1',\n",
        "    feedbacks=[f_groundedness, f_qa_relevance, f_qs_relevance])"
      ]
    },
    {
      "cell_type": "code",
      "execution_count": 24,
      "metadata": {
        "id": "mw-HUSugSEBv"
      },
      "outputs": [
        {
          "name": "stdout",
          "output_type": "stream",
          "text": [
            "The author dropped AI because they realized that the way AI was practiced at the time was a hoax. They believed that the whole way of doing AI, with explicit data structures representing concepts, was not going to work and would never lead to the creation of truly intelligent machines like Mike from the novel _The Moon is a Harsh Mistress_.\n"
          ]
        }
      ],
      "source": [
        "# or as context manager\n",
        "with tru_query_engine_recorder as recording:\n",
        "    response = query_engine.query(\"Why did the author drop AI?\")\n",
        "    print(response)"
      ]
    },
    {
      "cell_type": "markdown",
      "metadata": {
        "id": "NdZLMRZtSEBv"
      },
      "source": [
        "## Explore in a Dashboard"
      ]
    },
    {
      "cell_type": "code",
      "execution_count": 27,
      "metadata": {
        "id": "36QHHXBOSEBv"
      },
      "outputs": [
        {
          "name": "stderr",
          "output_type": "stream",
          "text": [
            "Running dashboard inside a notebook is an experimental feature and may not work well.\n"
          ]
        },
        {
          "data": {
            "text/markdown": [
              "\n",
              "        <style>\n",
              "            [data-testid=\"stSidebarNav\"] {\n",
              "                background-image: url('data:image/svg+xml;base64,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');\n",
              "                background-repeat: no-repeat;\n",
              "                background-size: 300px auto;\n",
              "                padding-top: 50px;\n",
              "                background-position: 20px 20px;\n",
              "            }\n",
              "            [data-testid=\"stSidebarNav\"]::before {\n",
              "                margin-left: 20px;\n",
              "                margin-top: 20px;\n",
              "                font-size: 30px;\n",
              "                position: relative;\n",
              "                top: 100px;\n",
              "            }\n",
              "            [data-testid=\"stSidebarNav\"]::after {\n",
              "                margin-left: 20px;\n",
              "                color: #aaaaaa;\n",
              "                content: \"trulens_eval 0.19.2\";\n",
              "                font-size: 10pt;\n",
              "            }\n",
              "\n",
              "            /* For list items in st.dataframe */\n",
              "            #portal .clip-region .boe-bubble {\n",
              "                height: auto;\n",
              "                border-radius: 4px;\n",
              "                padding: 8px;\n",
              "            }\n",
              "        </style>\n",
              "        "
            ],
            "text/plain": [
              "<IPython.core.display.Markdown object>"
            ]
          },
          "metadata": {},
          "output_type": "display_data"
        },
        {
          "data": {
            "text/markdown": [
              "# App Leaderboard"
            ],
            "text/plain": [
              "<IPython.core.display.Markdown object>"
            ]
          },
          "metadata": {},
          "output_type": "display_data"
        },
        {
          "data": {
            "text/markdown": [
              "Average feedback values displayed in the range from 0 (worst) to 1 (best)."
            ],
            "text/plain": [
              "<IPython.core.display.Markdown object>"
            ]
          },
          "metadata": {},
          "output_type": "display_data"
        },
        {
          "data": {
            "text/markdown": [
              "---"
            ],
            "text/plain": [
              "<IPython.core.display.Markdown object>"
            ]
          },
          "metadata": {},
          "output_type": "display_data"
        },
        {
          "data": {
            "text/markdown": [
              "## LlamaIndex_App1"
            ],
            "text/plain": [
              "<IPython.core.display.Markdown object>"
            ]
          },
          "metadata": {},
          "output_type": "display_data"
        },
        {
          "name": "stderr",
          "output_type": "stream",
          "text": [
            "2023-12-20 03:54:02.354 \n",
            "  \u001b[33m\u001b[1mWarning:\u001b[0m to view this Streamlit app on a browser, run it with the following\n",
            "  command:\n",
            "\n",
            "    streamlit run /Users/jim/Projects/wiki3ai/.venv/lib/python3.11/site-packages/ipykernel_launcher.py [ARGUMENTS]\n"
          ]
        },
        {
          "data": {
            "text/markdown": [
              "\n",
              "    <style> [data-testid=\"stMetricDelta\"] svg { display: none; } </style>\n",
              "    "
            ],
            "text/plain": [
              "<IPython.core.display.Markdown object>"
            ]
          },
          "metadata": {},
          "output_type": "display_data"
        },
        {
          "data": {
            "text/markdown": [
              "\n",
              "    <style> [data-testid=\"stMetricDelta\"] svg { display: none; } </style>\n",
              "    "
            ],
            "text/plain": [
              "<IPython.core.display.Markdown object>"
            ]
          },
          "metadata": {},
          "output_type": "display_data"
        },
        {
          "data": {
            "text/markdown": [
              "\n",
              "    <style> [data-testid=\"stMetricDelta\"] svg { display: none; } </style>\n",
              "    "
            ],
            "text/plain": [
              "<IPython.core.display.Markdown object>"
            ]
          },
          "metadata": {},
          "output_type": "display_data"
        },
        {
          "data": {
            "text/markdown": [
              "---"
            ],
            "text/plain": [
              "<IPython.core.display.Markdown object>"
            ]
          },
          "metadata": {},
          "output_type": "display_data"
        }
      ],
      "source": [
        "# tru.run_dashboard() # open a local streamlit app to explore\n",
        "\n",
        "tru.run_dashboard_in_jupyter() # open a streamlit app in the notebook"
      ]
    },
    {
      "cell_type": "code",
      "execution_count": null,
      "metadata": {},
      "outputs": [],
      "source": [
        "tru.stop_dashboard() # stop if needed"
      ]
    },
    {
      "cell_type": "markdown",
      "metadata": {
        "id": "WtoOWkaWSEBw"
      },
      "source": [
        "Alternatively, you can run `trulens-eval` from a command line in the same folder to start the dashboard."
      ]
    },
    {
      "cell_type": "markdown",
      "metadata": {
        "id": "dFpuxwU0SEBw"
      },
      "source": [
        "Note: Feedback functions evaluated in the deferred manner can be seen in the \"Progress\" page of the TruLens dashboard."
      ]
    },
    {
      "cell_type": "markdown",
      "metadata": {
        "id": "z6dO8uj1SEBw"
      },
      "source": [
        "## Or view results directly in your notebook"
      ]
    },
    {
      "cell_type": "code",
      "execution_count": 26,
      "metadata": {
        "colab": {
          "base_uri": "https://localhost:8080/",
          "height": 188
        },
        "id": "qmeraivqSEBw",
        "outputId": "96dbcc61-1172-49b3-dd4f-edf389fc2f85"
      },
      "outputs": [
        {
          "data": {
            "text/html": [
              "<div>\n",
              "<style scoped>\n",
              "    .dataframe tbody tr th:only-of-type {\n",
              "        vertical-align: middle;\n",
              "    }\n",
              "\n",
              "    .dataframe tbody tr th {\n",
              "        vertical-align: top;\n",
              "    }\n",
              "\n",
              "    .dataframe thead th {\n",
              "        text-align: right;\n",
              "    }\n",
              "</style>\n",
              "<table border=\"1\" class=\"dataframe\">\n",
              "  <thead>\n",
              "    <tr style=\"text-align: right;\">\n",
              "      <th></th>\n",
              "      <th>app_id</th>\n",
              "      <th>app_json</th>\n",
              "      <th>type</th>\n",
              "      <th>record_id</th>\n",
              "      <th>input</th>\n",
              "      <th>output</th>\n",
              "      <th>tags</th>\n",
              "      <th>record_json</th>\n",
              "      <th>cost_json</th>\n",
              "      <th>perf_json</th>\n",
              "      <th>ts</th>\n",
              "      <th>relevance</th>\n",
              "      <th>qs_relevance</th>\n",
              "      <th>groundedness_measure_with_cot_reasons</th>\n",
              "      <th>relevance_calls</th>\n",
              "      <th>qs_relevance_calls</th>\n",
              "      <th>groundedness_measure_with_cot_reasons_calls</th>\n",
              "      <th>latency</th>\n",
              "      <th>total_tokens</th>\n",
              "      <th>total_cost</th>\n",
              "    </tr>\n",
              "  </thead>\n",
              "  <tbody>\n",
              "    <tr>\n",
              "      <th>0</th>\n",
              "      <td>LlamaIndex_App1</td>\n",
              "      <td>{\"tru_class_info\": {\"name\": \"TruLlama\", \"modul...</td>\n",
              "      <td>RetrieverQueryEngine(llama_index.query_engine....</td>\n",
              "      <td>record_hash_1cb4a6448e269734eb06c48ca37dbd83</td>\n",
              "      <td>\"What did the author do growing up?\"</td>\n",
              "      <td>\"The provided context does not contain informa...</td>\n",
              "      <td>-</td>\n",
              "      <td>{\"record_id\": \"record_hash_1cb4a6448e269734eb0...</td>\n",
              "      <td>{\"n_requests\": 0, \"n_successful_requests\": 0, ...</td>\n",
              "      <td>{\"start_time\": \"2023-12-20T03:48:31.211610\", \"...</td>\n",
              "      <td>2023-12-20T03:48:34.677256</td>\n",
              "      <td>1.0</td>\n",
              "      <td>0.2</td>\n",
              "      <td>0.0</td>\n",
              "      <td>[{'args': {'prompt': 'What did the author do g...</td>\n",
              "      <td>[{'args': {'question': 'What did the author do...</td>\n",
              "      <td>[{'args': {'source': ['But the most important ...</td>\n",
              "      <td>3</td>\n",
              "      <td>0</td>\n",
              "      <td>0.0</td>\n",
              "    </tr>\n",
              "    <tr>\n",
              "      <th>1</th>\n",
              "      <td>LlamaIndex_App1</td>\n",
              "      <td>{\"tru_class_info\": {\"name\": \"TruLlama\", \"modul...</td>\n",
              "      <td>RetrieverQueryEngine(llama_index.query_engine....</td>\n",
              "      <td>record_hash_d8e36d766bb851ed3c1c4a53c8c252aa</td>\n",
              "      <td>\"Why did the author drop AI?\"</td>\n",
              "      <td>\"The author dropped AI because they realized t...</td>\n",
              "      <td>-</td>\n",
              "      <td>{\"record_id\": \"record_hash_d8e36d766bb851ed3c1...</td>\n",
              "      <td>{\"n_requests\": 0, \"n_successful_requests\": 0, ...</td>\n",
              "      <td>{\"start_time\": \"2023-12-20T03:52:55.666568\", \"...</td>\n",
              "      <td>2023-12-20T03:53:02.229297</td>\n",
              "      <td>0.8</td>\n",
              "      <td>0.2</td>\n",
              "      <td>1.0</td>\n",
              "      <td>[{'args': {'prompt': 'Why did the author drop ...</td>\n",
              "      <td>[{'args': {'question': 'Why did the author dro...</td>\n",
              "      <td>[{'args': {'source': ['Though I liked programm...</td>\n",
              "      <td>6</td>\n",
              "      <td>0</td>\n",
              "      <td>0.0</td>\n",
              "    </tr>\n",
              "  </tbody>\n",
              "</table>\n",
              "</div>"
            ],
            "text/plain": [
              "            app_id                                           app_json  \\\n",
              "0  LlamaIndex_App1  {\"tru_class_info\": {\"name\": \"TruLlama\", \"modul...   \n",
              "1  LlamaIndex_App1  {\"tru_class_info\": {\"name\": \"TruLlama\", \"modul...   \n",
              "\n",
              "                                                type  \\\n",
              "0  RetrieverQueryEngine(llama_index.query_engine....   \n",
              "1  RetrieverQueryEngine(llama_index.query_engine....   \n",
              "\n",
              "                                      record_id  \\\n",
              "0  record_hash_1cb4a6448e269734eb06c48ca37dbd83   \n",
              "1  record_hash_d8e36d766bb851ed3c1c4a53c8c252aa   \n",
              "\n",
              "                                  input  \\\n",
              "0  \"What did the author do growing up?\"   \n",
              "1         \"Why did the author drop AI?\"   \n",
              "\n",
              "                                              output tags  \\\n",
              "0  \"The provided context does not contain informa...    -   \n",
              "1  \"The author dropped AI because they realized t...    -   \n",
              "\n",
              "                                         record_json  \\\n",
              "0  {\"record_id\": \"record_hash_1cb4a6448e269734eb0...   \n",
              "1  {\"record_id\": \"record_hash_d8e36d766bb851ed3c1...   \n",
              "\n",
              "                                           cost_json  \\\n",
              "0  {\"n_requests\": 0, \"n_successful_requests\": 0, ...   \n",
              "1  {\"n_requests\": 0, \"n_successful_requests\": 0, ...   \n",
              "\n",
              "                                           perf_json  \\\n",
              "0  {\"start_time\": \"2023-12-20T03:48:31.211610\", \"...   \n",
              "1  {\"start_time\": \"2023-12-20T03:52:55.666568\", \"...   \n",
              "\n",
              "                           ts  relevance  qs_relevance  \\\n",
              "0  2023-12-20T03:48:34.677256        1.0           0.2   \n",
              "1  2023-12-20T03:53:02.229297        0.8           0.2   \n",
              "\n",
              "   groundedness_measure_with_cot_reasons  \\\n",
              "0                                    0.0   \n",
              "1                                    1.0   \n",
              "\n",
              "                                     relevance_calls  \\\n",
              "0  [{'args': {'prompt': 'What did the author do g...   \n",
              "1  [{'args': {'prompt': 'Why did the author drop ...   \n",
              "\n",
              "                                  qs_relevance_calls  \\\n",
              "0  [{'args': {'question': 'What did the author do...   \n",
              "1  [{'args': {'question': 'Why did the author dro...   \n",
              "\n",
              "         groundedness_measure_with_cot_reasons_calls  latency  total_tokens  \\\n",
              "0  [{'args': {'source': ['But the most important ...        3             0   \n",
              "1  [{'args': {'source': ['Though I liked programm...        6             0   \n",
              "\n",
              "   total_cost  \n",
              "0         0.0  \n",
              "1         0.0  "
            ]
          },
          "execution_count": 26,
          "metadata": {},
          "output_type": "execute_result"
        }
      ],
      "source": [
        "tru.get_records_and_feedback(app_ids=[])[0] # pass an empty list of app_ids to get all"
      ]
    }
  ],
  "metadata": {
    "colab": {
      "provenance": []
    },
    "kernelspec": {
      "display_name": "Python 3.11.4 ('agents')",
      "language": "python",
      "name": "python3"
    },
    "language_info": {
      "codemirror_mode": {
        "name": "ipython",
        "version": 3
      },
      "file_extension": ".py",
      "mimetype": "text/x-python",
      "name": "python",
      "nbconvert_exporter": "python",
      "pygments_lexer": "ipython3",
      "version": "3.11.3"
    },
    "vscode": {
      "interpreter": {
        "hash": "7d153714b979d5e6d08dd8ec90712dd93bff2c9b6c1f0c118169738af3430cd4"
      }
    },
    "widgets": {
      "application/vnd.jupyter.widget-state+json": {
        "06bbd7e875f346958667df732f7cf574": {
          "model_module": "@jupyter-widgets/controls",
          "model_module_version": "1.5.0",
          "model_name": "ProgressStyleModel",
          "state": {
            "_model_module": "@jupyter-widgets/controls",
            "_model_module_version": "1.5.0",
            "_model_name": "ProgressStyleModel",
            "_view_count": null,
            "_view_module": "@jupyter-widgets/base",
            "_view_module_version": "1.2.0",
            "_view_name": "StyleView",
            "bar_color": null,
            "description_width": ""
          }
        },
        "0db6fb29f4f64118ae9b9d6e81e15ef0": {
          "model_module": "@jupyter-widgets/controls",
          "model_module_version": "1.5.0",
          "model_name": "FloatProgressModel",
          "state": {
            "_dom_classes": [],
            "_model_module": "@jupyter-widgets/controls",
            "_model_module_version": "1.5.0",
            "_model_name": "FloatProgressModel",
            "_view_count": null,
            "_view_module": "@jupyter-widgets/controls",
            "_view_module_version": "1.5.0",
            "_view_name": "ProgressView",
            "bar_style": "success",
            "description": "",
            "description_tooltip": null,
            "layout": "IPY_MODEL_13931b3e193749009caa7ef4ccea7967",
            "max": 23,
            "min": 0,
            "orientation": "horizontal",
            "style": "IPY_MODEL_06bbd7e875f346958667df732f7cf574",
            "value": 23
          }
        },
        "0fa685503e964fafadde5abcf202bb1e": {
          "model_module": "@jupyter-widgets/controls",
          "model_module_version": "1.5.0",
          "model_name": "DescriptionStyleModel",
          "state": {
            "_model_module": "@jupyter-widgets/controls",
            "_model_module_version": "1.5.0",
            "_model_name": "DescriptionStyleModel",
            "_view_count": null,
            "_view_module": "@jupyter-widgets/base",
            "_view_module_version": "1.2.0",
            "_view_name": "StyleView",
            "description_width": ""
          }
        },
        "13931b3e193749009caa7ef4ccea7967": {
          "model_module": "@jupyter-widgets/base",
          "model_module_version": "1.2.0",
          "model_name": "LayoutModel",
          "state": {
            "_model_module": "@jupyter-widgets/base",
            "_model_module_version": "1.2.0",
            "_model_name": "LayoutModel",
            "_view_count": null,
            "_view_module": "@jupyter-widgets/base",
            "_view_module_version": "1.2.0",
            "_view_name": "LayoutView",
            "align_content": null,
            "align_items": null,
            "align_self": null,
            "border": null,
            "bottom": null,
            "display": null,
            "flex": null,
            "flex_flow": null,
            "grid_area": null,
            "grid_auto_columns": null,
            "grid_auto_flow": null,
            "grid_auto_rows": null,
            "grid_column": null,
            "grid_gap": null,
            "grid_row": null,
            "grid_template_areas": null,
            "grid_template_columns": null,
            "grid_template_rows": null,
            "height": null,
            "justify_content": null,
            "justify_items": null,
            "left": null,
            "margin": null,
            "max_height": null,
            "max_width": null,
            "min_height": null,
            "min_width": null,
            "object_fit": null,
            "object_position": null,
            "order": null,
            "overflow": null,
            "overflow_x": null,
            "overflow_y": null,
            "padding": null,
            "right": null,
            "top": null,
            "visibility": null,
            "width": null
          }
        },
        "20552da6c2b8436cbba7b3ce6338b295": {
          "model_module": "@jupyter-widgets/controls",
          "model_module_version": "1.5.0",
          "model_name": "HTMLModel",
          "state": {
            "_dom_classes": [],
            "_model_module": "@jupyter-widgets/controls",
            "_model_module_version": "1.5.0",
            "_model_name": "HTMLModel",
            "_view_count": null,
            "_view_module": "@jupyter-widgets/controls",
            "_view_module_version": "1.5.0",
            "_view_name": "HTMLView",
            "description": "",
            "description_tooltip": null,
            "layout": "IPY_MODEL_5b0048f4b9124784b5e767bcd7533683",
            "placeholder": "​",
            "style": "IPY_MODEL_e1741a85a9c74025a83cb815a694eed6",
            "value": "Parsing nodes: 100%"
          }
        },
        "359486ce32b047b4a34dcf42e0b81004": {
          "model_module": "@jupyter-widgets/base",
          "model_module_version": "1.2.0",
          "model_name": "LayoutModel",
          "state": {
            "_model_module": "@jupyter-widgets/base",
            "_model_module_version": "1.2.0",
            "_model_name": "LayoutModel",
            "_view_count": null,
            "_view_module": "@jupyter-widgets/base",
            "_view_module_version": "1.2.0",
            "_view_name": "LayoutView",
            "align_content": null,
            "align_items": null,
            "align_self": null,
            "border": null,
            "bottom": null,
            "display": null,
            "flex": null,
            "flex_flow": null,
            "grid_area": null,
            "grid_auto_columns": null,
            "grid_auto_flow": null,
            "grid_auto_rows": null,
            "grid_column": null,
            "grid_gap": null,
            "grid_row": null,
            "grid_template_areas": null,
            "grid_template_columns": null,
            "grid_template_rows": null,
            "height": null,
            "justify_content": null,
            "justify_items": null,
            "left": null,
            "margin": null,
            "max_height": null,
            "max_width": null,
            "min_height": null,
            "min_width": null,
            "object_fit": null,
            "object_position": null,
            "order": null,
            "overflow": null,
            "overflow_x": null,
            "overflow_y": null,
            "padding": null,
            "right": null,
            "top": null,
            "visibility": null,
            "width": null
          }
        },
        "38773a9b07e24e0789412377b84518b7": {
          "model_module": "@jupyter-widgets/controls",
          "model_module_version": "1.5.0",
          "model_name": "DescriptionStyleModel",
          "state": {
            "_model_module": "@jupyter-widgets/controls",
            "_model_module_version": "1.5.0",
            "_model_name": "DescriptionStyleModel",
            "_view_count": null,
            "_view_module": "@jupyter-widgets/base",
            "_view_module_version": "1.2.0",
            "_view_name": "StyleView",
            "description_width": ""
          }
        },
        "42abd41bb549421f8680517f97b03b8f": {
          "model_module": "@jupyter-widgets/controls",
          "model_module_version": "1.5.0",
          "model_name": "HBoxModel",
          "state": {
            "_dom_classes": [],
            "_model_module": "@jupyter-widgets/controls",
            "_model_module_version": "1.5.0",
            "_model_name": "HBoxModel",
            "_view_count": null,
            "_view_module": "@jupyter-widgets/controls",
            "_view_module_version": "1.5.0",
            "_view_name": "HBoxView",
            "box_style": "",
            "children": [
              "IPY_MODEL_20552da6c2b8436cbba7b3ce6338b295",
              "IPY_MODEL_5ecef3a5be5c4941ab0d4b34f7e5fa77",
              "IPY_MODEL_ef1e644267134c718ad62bb53d0c63f1"
            ],
            "layout": "IPY_MODEL_359486ce32b047b4a34dcf42e0b81004"
          }
        },
        "51d5bafd273b4c7bbe169f8d27462285": {
          "model_module": "@jupyter-widgets/controls",
          "model_module_version": "1.5.0",
          "model_name": "DescriptionStyleModel",
          "state": {
            "_model_module": "@jupyter-widgets/controls",
            "_model_module_version": "1.5.0",
            "_model_name": "DescriptionStyleModel",
            "_view_count": null,
            "_view_module": "@jupyter-widgets/base",
            "_view_module_version": "1.2.0",
            "_view_name": "StyleView",
            "description_width": ""
          }
        },
        "5b0048f4b9124784b5e767bcd7533683": {
          "model_module": "@jupyter-widgets/base",
          "model_module_version": "1.2.0",
          "model_name": "LayoutModel",
          "state": {
            "_model_module": "@jupyter-widgets/base",
            "_model_module_version": "1.2.0",
            "_model_name": "LayoutModel",
            "_view_count": null,
            "_view_module": "@jupyter-widgets/base",
            "_view_module_version": "1.2.0",
            "_view_name": "LayoutView",
            "align_content": null,
            "align_items": null,
            "align_self": null,
            "border": null,
            "bottom": null,
            "display": null,
            "flex": null,
            "flex_flow": null,
            "grid_area": null,
            "grid_auto_columns": null,
            "grid_auto_flow": null,
            "grid_auto_rows": null,
            "grid_column": null,
            "grid_gap": null,
            "grid_row": null,
            "grid_template_areas": null,
            "grid_template_columns": null,
            "grid_template_rows": null,
            "height": null,
            "justify_content": null,
            "justify_items": null,
            "left": null,
            "margin": null,
            "max_height": null,
            "max_width": null,
            "min_height": null,
            "min_width": null,
            "object_fit": null,
            "object_position": null,
            "order": null,
            "overflow": null,
            "overflow_x": null,
            "overflow_y": null,
            "padding": null,
            "right": null,
            "top": null,
            "visibility": null,
            "width": null
          }
        },
        "5ecef3a5be5c4941ab0d4b34f7e5fa77": {
          "model_module": "@jupyter-widgets/controls",
          "model_module_version": "1.5.0",
          "model_name": "FloatProgressModel",
          "state": {
            "_dom_classes": [],
            "_model_module": "@jupyter-widgets/controls",
            "_model_module_version": "1.5.0",
            "_model_name": "FloatProgressModel",
            "_view_count": null,
            "_view_module": "@jupyter-widgets/controls",
            "_view_module_version": "1.5.0",
            "_view_name": "ProgressView",
            "bar_style": "success",
            "description": "",
            "description_tooltip": null,
            "layout": "IPY_MODEL_69c8a60a92f24832bd582dcf78738129",
            "max": 1,
            "min": 0,
            "orientation": "horizontal",
            "style": "IPY_MODEL_7e5804d74c1e4333b9f95122fb8c96cc",
            "value": 1
          }
        },
        "5fe8bc5f962a49b8a9278fa6cdadcc21": {
          "model_module": "@jupyter-widgets/controls",
          "model_module_version": "1.5.0",
          "model_name": "HTMLModel",
          "state": {
            "_dom_classes": [],
            "_model_module": "@jupyter-widgets/controls",
            "_model_module_version": "1.5.0",
            "_model_name": "HTMLModel",
            "_view_count": null,
            "_view_module": "@jupyter-widgets/controls",
            "_view_module_version": "1.5.0",
            "_view_name": "HTMLView",
            "description": "",
            "description_tooltip": null,
            "layout": "IPY_MODEL_8cde791ada994503ad415364d6d33890",
            "placeholder": "​",
            "style": "IPY_MODEL_51d5bafd273b4c7bbe169f8d27462285",
            "value": " 23/23 [00:11&lt;00:00,  1.90it/s]"
          }
        },
        "69c8a60a92f24832bd582dcf78738129": {
          "model_module": "@jupyter-widgets/base",
          "model_module_version": "1.2.0",
          "model_name": "LayoutModel",
          "state": {
            "_model_module": "@jupyter-widgets/base",
            "_model_module_version": "1.2.0",
            "_model_name": "LayoutModel",
            "_view_count": null,
            "_view_module": "@jupyter-widgets/base",
            "_view_module_version": "1.2.0",
            "_view_name": "LayoutView",
            "align_content": null,
            "align_items": null,
            "align_self": null,
            "border": null,
            "bottom": null,
            "display": null,
            "flex": null,
            "flex_flow": null,
            "grid_area": null,
            "grid_auto_columns": null,
            "grid_auto_flow": null,
            "grid_auto_rows": null,
            "grid_column": null,
            "grid_gap": null,
            "grid_row": null,
            "grid_template_areas": null,
            "grid_template_columns": null,
            "grid_template_rows": null,
            "height": null,
            "justify_content": null,
            "justify_items": null,
            "left": null,
            "margin": null,
            "max_height": null,
            "max_width": null,
            "min_height": null,
            "min_width": null,
            "object_fit": null,
            "object_position": null,
            "order": null,
            "overflow": null,
            "overflow_x": null,
            "overflow_y": null,
            "padding": null,
            "right": null,
            "top": null,
            "visibility": null,
            "width": null
          }
        },
        "7e5804d74c1e4333b9f95122fb8c96cc": {
          "model_module": "@jupyter-widgets/controls",
          "model_module_version": "1.5.0",
          "model_name": "ProgressStyleModel",
          "state": {
            "_model_module": "@jupyter-widgets/controls",
            "_model_module_version": "1.5.0",
            "_model_name": "ProgressStyleModel",
            "_view_count": null,
            "_view_module": "@jupyter-widgets/base",
            "_view_module_version": "1.2.0",
            "_view_name": "StyleView",
            "bar_color": null,
            "description_width": ""
          }
        },
        "8a7ffefe09db42a0bd028109a64909a6": {
          "model_module": "@jupyter-widgets/base",
          "model_module_version": "1.2.0",
          "model_name": "LayoutModel",
          "state": {
            "_model_module": "@jupyter-widgets/base",
            "_model_module_version": "1.2.0",
            "_model_name": "LayoutModel",
            "_view_count": null,
            "_view_module": "@jupyter-widgets/base",
            "_view_module_version": "1.2.0",
            "_view_name": "LayoutView",
            "align_content": null,
            "align_items": null,
            "align_self": null,
            "border": null,
            "bottom": null,
            "display": null,
            "flex": null,
            "flex_flow": null,
            "grid_area": null,
            "grid_auto_columns": null,
            "grid_auto_flow": null,
            "grid_auto_rows": null,
            "grid_column": null,
            "grid_gap": null,
            "grid_row": null,
            "grid_template_areas": null,
            "grid_template_columns": null,
            "grid_template_rows": null,
            "height": null,
            "justify_content": null,
            "justify_items": null,
            "left": null,
            "margin": null,
            "max_height": null,
            "max_width": null,
            "min_height": null,
            "min_width": null,
            "object_fit": null,
            "object_position": null,
            "order": null,
            "overflow": null,
            "overflow_x": null,
            "overflow_y": null,
            "padding": null,
            "right": null,
            "top": null,
            "visibility": null,
            "width": null
          }
        },
        "8cde791ada994503ad415364d6d33890": {
          "model_module": "@jupyter-widgets/base",
          "model_module_version": "1.2.0",
          "model_name": "LayoutModel",
          "state": {
            "_model_module": "@jupyter-widgets/base",
            "_model_module_version": "1.2.0",
            "_model_name": "LayoutModel",
            "_view_count": null,
            "_view_module": "@jupyter-widgets/base",
            "_view_module_version": "1.2.0",
            "_view_name": "LayoutView",
            "align_content": null,
            "align_items": null,
            "align_self": null,
            "border": null,
            "bottom": null,
            "display": null,
            "flex": null,
            "flex_flow": null,
            "grid_area": null,
            "grid_auto_columns": null,
            "grid_auto_flow": null,
            "grid_auto_rows": null,
            "grid_column": null,
            "grid_gap": null,
            "grid_row": null,
            "grid_template_areas": null,
            "grid_template_columns": null,
            "grid_template_rows": null,
            "height": null,
            "justify_content": null,
            "justify_items": null,
            "left": null,
            "margin": null,
            "max_height": null,
            "max_width": null,
            "min_height": null,
            "min_width": null,
            "object_fit": null,
            "object_position": null,
            "order": null,
            "overflow": null,
            "overflow_x": null,
            "overflow_y": null,
            "padding": null,
            "right": null,
            "top": null,
            "visibility": null,
            "width": null
          }
        },
        "9b812c97e5934475b3316dada1fd992e": {
          "model_module": "@jupyter-widgets/base",
          "model_module_version": "1.2.0",
          "model_name": "LayoutModel",
          "state": {
            "_model_module": "@jupyter-widgets/base",
            "_model_module_version": "1.2.0",
            "_model_name": "LayoutModel",
            "_view_count": null,
            "_view_module": "@jupyter-widgets/base",
            "_view_module_version": "1.2.0",
            "_view_name": "LayoutView",
            "align_content": null,
            "align_items": null,
            "align_self": null,
            "border": null,
            "bottom": null,
            "display": null,
            "flex": null,
            "flex_flow": null,
            "grid_area": null,
            "grid_auto_columns": null,
            "grid_auto_flow": null,
            "grid_auto_rows": null,
            "grid_column": null,
            "grid_gap": null,
            "grid_row": null,
            "grid_template_areas": null,
            "grid_template_columns": null,
            "grid_template_rows": null,
            "height": null,
            "justify_content": null,
            "justify_items": null,
            "left": null,
            "margin": null,
            "max_height": null,
            "max_width": null,
            "min_height": null,
            "min_width": null,
            "object_fit": null,
            "object_position": null,
            "order": null,
            "overflow": null,
            "overflow_x": null,
            "overflow_y": null,
            "padding": null,
            "right": null,
            "top": null,
            "visibility": null,
            "width": null
          }
        },
        "cc2842c56d6d4fffb6473dd24e453e5f": {
          "model_module": "@jupyter-widgets/controls",
          "model_module_version": "1.5.0",
          "model_name": "HBoxModel",
          "state": {
            "_dom_classes": [],
            "_model_module": "@jupyter-widgets/controls",
            "_model_module_version": "1.5.0",
            "_model_name": "HBoxModel",
            "_view_count": null,
            "_view_module": "@jupyter-widgets/controls",
            "_view_module_version": "1.5.0",
            "_view_name": "HBoxView",
            "box_style": "",
            "children": [
              "IPY_MODEL_ec0ab4f5547a46cd85998addd008cd64",
              "IPY_MODEL_0db6fb29f4f64118ae9b9d6e81e15ef0",
              "IPY_MODEL_5fe8bc5f962a49b8a9278fa6cdadcc21"
            ],
            "layout": "IPY_MODEL_dfddcccae608466980b729effdd117f0"
          }
        },
        "dfddcccae608466980b729effdd117f0": {
          "model_module": "@jupyter-widgets/base",
          "model_module_version": "1.2.0",
          "model_name": "LayoutModel",
          "state": {
            "_model_module": "@jupyter-widgets/base",
            "_model_module_version": "1.2.0",
            "_model_name": "LayoutModel",
            "_view_count": null,
            "_view_module": "@jupyter-widgets/base",
            "_view_module_version": "1.2.0",
            "_view_name": "LayoutView",
            "align_content": null,
            "align_items": null,
            "align_self": null,
            "border": null,
            "bottom": null,
            "display": null,
            "flex": null,
            "flex_flow": null,
            "grid_area": null,
            "grid_auto_columns": null,
            "grid_auto_flow": null,
            "grid_auto_rows": null,
            "grid_column": null,
            "grid_gap": null,
            "grid_row": null,
            "grid_template_areas": null,
            "grid_template_columns": null,
            "grid_template_rows": null,
            "height": null,
            "justify_content": null,
            "justify_items": null,
            "left": null,
            "margin": null,
            "max_height": null,
            "max_width": null,
            "min_height": null,
            "min_width": null,
            "object_fit": null,
            "object_position": null,
            "order": null,
            "overflow": null,
            "overflow_x": null,
            "overflow_y": null,
            "padding": null,
            "right": null,
            "top": null,
            "visibility": null,
            "width": null
          }
        },
        "e1741a85a9c74025a83cb815a694eed6": {
          "model_module": "@jupyter-widgets/controls",
          "model_module_version": "1.5.0",
          "model_name": "DescriptionStyleModel",
          "state": {
            "_model_module": "@jupyter-widgets/controls",
            "_model_module_version": "1.5.0",
            "_model_name": "DescriptionStyleModel",
            "_view_count": null,
            "_view_module": "@jupyter-widgets/base",
            "_view_module_version": "1.2.0",
            "_view_name": "StyleView",
            "description_width": ""
          }
        },
        "ec0ab4f5547a46cd85998addd008cd64": {
          "model_module": "@jupyter-widgets/controls",
          "model_module_version": "1.5.0",
          "model_name": "HTMLModel",
          "state": {
            "_dom_classes": [],
            "_model_module": "@jupyter-widgets/controls",
            "_model_module_version": "1.5.0",
            "_model_name": "HTMLModel",
            "_view_count": null,
            "_view_module": "@jupyter-widgets/controls",
            "_view_module_version": "1.5.0",
            "_view_name": "HTMLView",
            "description": "",
            "description_tooltip": null,
            "layout": "IPY_MODEL_8a7ffefe09db42a0bd028109a64909a6",
            "placeholder": "​",
            "style": "IPY_MODEL_0fa685503e964fafadde5abcf202bb1e",
            "value": "Generating embeddings: 100%"
          }
        },
        "ef1e644267134c718ad62bb53d0c63f1": {
          "model_module": "@jupyter-widgets/controls",
          "model_module_version": "1.5.0",
          "model_name": "HTMLModel",
          "state": {
            "_dom_classes": [],
            "_model_module": "@jupyter-widgets/controls",
            "_model_module_version": "1.5.0",
            "_model_name": "HTMLModel",
            "_view_count": null,
            "_view_module": "@jupyter-widgets/controls",
            "_view_module_version": "1.5.0",
            "_view_name": "HTMLView",
            "description": "",
            "description_tooltip": null,
            "layout": "IPY_MODEL_9b812c97e5934475b3316dada1fd992e",
            "placeholder": "​",
            "style": "IPY_MODEL_38773a9b07e24e0789412377b84518b7",
            "value": " 1/1 [00:00&lt;00:00,  7.25it/s]"
          }
        }
      }
    }
  },
  "nbformat": 4,
  "nbformat_minor": 0
}
